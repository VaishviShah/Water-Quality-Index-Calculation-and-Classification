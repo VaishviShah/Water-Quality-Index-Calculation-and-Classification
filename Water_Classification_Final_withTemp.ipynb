{
 "cells": [
  {
   "cell_type": "code",
   "execution_count": 1,
   "id": "ee61df64",
   "metadata": {
    "id": "ee61df64"
   },
   "outputs": [],
   "source": [
    "import numpy as np\n",
    "import pandas as pd\n",
    "import matplotlib.pyplot as plt\n",
    "import seaborn as sns\n",
    "from sklearn.neighbors import LocalOutlierFactor\n",
    "from scipy.stats import probplot\n",
    "from scipy.stats import zscore"
   ]
  },
  {
   "cell_type": "code",
   "execution_count": 2,
   "id": "12a42e6d",
   "metadata": {
    "colab": {
     "base_uri": "https://localhost:8080/",
     "height": 406
    },
    "id": "12a42e6d",
    "outputId": "aef87e1b-f72e-48c1-9291-697611436926"
   },
   "outputs": [
    {
     "data": {
      "text/html": [
       "<div>\n",
       "<style scoped>\n",
       "    .dataframe tbody tr th:only-of-type {\n",
       "        vertical-align: middle;\n",
       "    }\n",
       "\n",
       "    .dataframe tbody tr th {\n",
       "        vertical-align: top;\n",
       "    }\n",
       "\n",
       "    .dataframe thead th {\n",
       "        text-align: right;\n",
       "    }\n",
       "</style>\n",
       "<table border=\"1\" class=\"dataframe\">\n",
       "  <thead>\n",
       "    <tr style=\"text-align: right;\">\n",
       "      <th></th>\n",
       "      <th>STATION CODE</th>\n",
       "      <th>LOCATIONS</th>\n",
       "      <th>STATE</th>\n",
       "      <th>Temp</th>\n",
       "      <th>D.O. (mg/l)</th>\n",
       "      <th>PH</th>\n",
       "      <th>CONDUCTIVITY (µmhos/cm)</th>\n",
       "      <th>B.O.D. (mg/l)</th>\n",
       "      <th>NITRATENAN N+ NITRITENANN (mg/l)</th>\n",
       "      <th>FECAL COLIFORM (MPN/100ml)</th>\n",
       "      <th>TOTAL COLIFORM (MPN/100ml)Mean</th>\n",
       "      <th>year</th>\n",
       "    </tr>\n",
       "  </thead>\n",
       "  <tbody>\n",
       "    <tr>\n",
       "      <th>0</th>\n",
       "      <td>1393</td>\n",
       "      <td>DAMANGANGA AT D/S OF MADHUBAN, DAMAN</td>\n",
       "      <td>DAMAN &amp; DIU</td>\n",
       "      <td>30.6</td>\n",
       "      <td>6.7</td>\n",
       "      <td>7.5</td>\n",
       "      <td>203</td>\n",
       "      <td>NAN</td>\n",
       "      <td>0.1</td>\n",
       "      <td>11</td>\n",
       "      <td>27</td>\n",
       "      <td>2014</td>\n",
       "    </tr>\n",
       "    <tr>\n",
       "      <th>1</th>\n",
       "      <td>1399</td>\n",
       "      <td>ZUARI AT D/S OF PT. WHERE KUMBARJRIA CANAL JOI...</td>\n",
       "      <td>GOA</td>\n",
       "      <td>29.8</td>\n",
       "      <td>5.7</td>\n",
       "      <td>7.2</td>\n",
       "      <td>189</td>\n",
       "      <td>2</td>\n",
       "      <td>0.2</td>\n",
       "      <td>4953</td>\n",
       "      <td>8391</td>\n",
       "      <td>2014</td>\n",
       "    </tr>\n",
       "    <tr>\n",
       "      <th>2</th>\n",
       "      <td>1475</td>\n",
       "      <td>ZUARI AT PANCHAWADI</td>\n",
       "      <td>GOA</td>\n",
       "      <td>29.5</td>\n",
       "      <td>6.3</td>\n",
       "      <td>6.9</td>\n",
       "      <td>179</td>\n",
       "      <td>1.7</td>\n",
       "      <td>0.1</td>\n",
       "      <td>3243</td>\n",
       "      <td>5330</td>\n",
       "      <td>2014</td>\n",
       "    </tr>\n",
       "    <tr>\n",
       "      <th>3</th>\n",
       "      <td>3181</td>\n",
       "      <td>RIVER ZUARI AT BORIM BRIDGE</td>\n",
       "      <td>GOA</td>\n",
       "      <td>29.7</td>\n",
       "      <td>5.8</td>\n",
       "      <td>6.9</td>\n",
       "      <td>64</td>\n",
       "      <td>3.8</td>\n",
       "      <td>0.5</td>\n",
       "      <td>5382</td>\n",
       "      <td>8443</td>\n",
       "      <td>2014</td>\n",
       "    </tr>\n",
       "    <tr>\n",
       "      <th>4</th>\n",
       "      <td>3182</td>\n",
       "      <td>RIVER ZUARI AT MARCAIM JETTY</td>\n",
       "      <td>GOA</td>\n",
       "      <td>29.5</td>\n",
       "      <td>5.8</td>\n",
       "      <td>7.3</td>\n",
       "      <td>83</td>\n",
       "      <td>1.9</td>\n",
       "      <td>0.4</td>\n",
       "      <td>3428</td>\n",
       "      <td>5500</td>\n",
       "      <td>2014</td>\n",
       "    </tr>\n",
       "  </tbody>\n",
       "</table>\n",
       "</div>"
      ],
      "text/plain": [
       "  STATION CODE                                          LOCATIONS  \\\n",
       "0         1393               DAMANGANGA AT D/S OF MADHUBAN, DAMAN   \n",
       "1         1399  ZUARI AT D/S OF PT. WHERE KUMBARJRIA CANAL JOI...   \n",
       "2         1475                                ZUARI AT PANCHAWADI   \n",
       "3         3181                        RIVER ZUARI AT BORIM BRIDGE   \n",
       "4         3182                       RIVER ZUARI AT MARCAIM JETTY   \n",
       "\n",
       "         STATE  Temp D.O. (mg/l)   PH CONDUCTIVITY (µmhos/cm) B.O.D. (mg/l)  \\\n",
       "0  DAMAN & DIU  30.6         6.7  7.5                     203           NAN   \n",
       "1          GOA  29.8         5.7  7.2                     189             2   \n",
       "2          GOA  29.5         6.3  6.9                     179           1.7   \n",
       "3          GOA  29.7         5.8  6.9                      64           3.8   \n",
       "4          GOA  29.5         5.8  7.3                      83           1.9   \n",
       "\n",
       "  NITRATENAN N+ NITRITENANN (mg/l) FECAL COLIFORM (MPN/100ml)  \\\n",
       "0                              0.1                         11   \n",
       "1                              0.2                       4953   \n",
       "2                              0.1                       3243   \n",
       "3                              0.5                       5382   \n",
       "4                              0.4                       3428   \n",
       "\n",
       "  TOTAL COLIFORM (MPN/100ml)Mean  year  \n",
       "0                             27  2014  \n",
       "1                           8391  2014  \n",
       "2                           5330  2014  \n",
       "3                           8443  2014  \n",
       "4                           5500  2014  "
      ]
     },
     "execution_count": 2,
     "metadata": {},
     "output_type": "execute_result"
    }
   ],
   "source": [
    "dataset=pd.read_csv('water_dataX.csv', encoding = 'unicode_escape')\n",
    "dataset.head()"
   ]
  },
  {
   "cell_type": "code",
   "execution_count": 3,
   "id": "93277c1a",
   "metadata": {
    "colab": {
     "base_uri": "https://localhost:8080/",
     "height": 300
    },
    "id": "93277c1a",
    "outputId": "1f7a041e-8a7c-46d9-86cc-6382802c1906"
   },
   "outputs": [
    {
     "data": {
      "text/html": [
       "<div>\n",
       "<style scoped>\n",
       "    .dataframe tbody tr th:only-of-type {\n",
       "        vertical-align: middle;\n",
       "    }\n",
       "\n",
       "    .dataframe tbody tr th {\n",
       "        vertical-align: top;\n",
       "    }\n",
       "\n",
       "    .dataframe thead th {\n",
       "        text-align: right;\n",
       "    }\n",
       "</style>\n",
       "<table border=\"1\" class=\"dataframe\">\n",
       "  <thead>\n",
       "    <tr style=\"text-align: right;\">\n",
       "      <th></th>\n",
       "      <th>year</th>\n",
       "    </tr>\n",
       "  </thead>\n",
       "  <tbody>\n",
       "    <tr>\n",
       "      <th>count</th>\n",
       "      <td>1991.000000</td>\n",
       "    </tr>\n",
       "    <tr>\n",
       "      <th>mean</th>\n",
       "      <td>2010.038172</td>\n",
       "    </tr>\n",
       "    <tr>\n",
       "      <th>std</th>\n",
       "      <td>3.057333</td>\n",
       "    </tr>\n",
       "    <tr>\n",
       "      <th>min</th>\n",
       "      <td>2003.000000</td>\n",
       "    </tr>\n",
       "    <tr>\n",
       "      <th>25%</th>\n",
       "      <td>2008.000000</td>\n",
       "    </tr>\n",
       "    <tr>\n",
       "      <th>50%</th>\n",
       "      <td>2011.000000</td>\n",
       "    </tr>\n",
       "    <tr>\n",
       "      <th>75%</th>\n",
       "      <td>2013.000000</td>\n",
       "    </tr>\n",
       "    <tr>\n",
       "      <th>max</th>\n",
       "      <td>2014.000000</td>\n",
       "    </tr>\n",
       "  </tbody>\n",
       "</table>\n",
       "</div>"
      ],
      "text/plain": [
       "              year\n",
       "count  1991.000000\n",
       "mean   2010.038172\n",
       "std       3.057333\n",
       "min    2003.000000\n",
       "25%    2008.000000\n",
       "50%    2011.000000\n",
       "75%    2013.000000\n",
       "max    2014.000000"
      ]
     },
     "execution_count": 3,
     "metadata": {},
     "output_type": "execute_result"
    }
   ],
   "source": [
    "dataset.describe()"
   ]
  },
  {
   "cell_type": "code",
   "execution_count": 4,
   "id": "895cf8ff",
   "metadata": {
    "colab": {
     "base_uri": "https://localhost:8080/"
    },
    "id": "895cf8ff",
    "outputId": "2056352b-3d1b-46cd-8ef1-dad207eaa6de"
   },
   "outputs": [
    {
     "name": "stdout",
     "output_type": "stream",
     "text": [
      "<class 'pandas.core.frame.DataFrame'>\n",
      "RangeIndex: 1991 entries, 0 to 1990\n",
      "Data columns (total 12 columns):\n",
      " #   Column                            Non-Null Count  Dtype \n",
      "---  ------                            --------------  ----- \n",
      " 0   STATION CODE                      1991 non-null   object\n",
      " 1   LOCATIONS                         1991 non-null   object\n",
      " 2   STATE                             1991 non-null   object\n",
      " 3   Temp                              1991 non-null   object\n",
      " 4   D.O. (mg/l)                       1991 non-null   object\n",
      " 5   PH                                1991 non-null   object\n",
      " 6   CONDUCTIVITY (µmhos/cm)           1991 non-null   object\n",
      " 7   B.O.D. (mg/l)                     1991 non-null   object\n",
      " 8   NITRATENAN N+ NITRITENANN (mg/l)  1991 non-null   object\n",
      " 9   FECAL COLIFORM (MPN/100ml)        1991 non-null   object\n",
      " 10  TOTAL COLIFORM (MPN/100ml)Mean    1991 non-null   object\n",
      " 11  year                              1991 non-null   int64 \n",
      "dtypes: int64(1), object(11)\n",
      "memory usage: 186.8+ KB\n"
     ]
    }
   ],
   "source": [
    "dataset.info()"
   ]
  },
  {
   "cell_type": "code",
   "execution_count": 5,
   "id": "6768d752",
   "metadata": {
    "colab": {
     "base_uri": "https://localhost:8080/"
    },
    "id": "6768d752",
    "outputId": "2eadcdaa-88cb-400d-e7b6-caceeb1111e7"
   },
   "outputs": [
    {
     "data": {
      "text/plain": [
       "STATION CODE                        False\n",
       "LOCATIONS                           False\n",
       "STATE                               False\n",
       "Temp                                False\n",
       "D.O. (mg/l)                         False\n",
       "PH                                  False\n",
       "CONDUCTIVITY (µmhos/cm)             False\n",
       "B.O.D. (mg/l)                       False\n",
       "NITRATENAN N+ NITRITENANN (mg/l)    False\n",
       "FECAL COLIFORM (MPN/100ml)          False\n",
       "TOTAL COLIFORM (MPN/100ml)Mean      False\n",
       "year                                False\n",
       "dtype: bool"
      ]
     },
     "execution_count": 5,
     "metadata": {},
     "output_type": "execute_result"
    }
   ],
   "source": [
    "# finding null values\n",
    "dataset.isnull().any()"
   ]
  },
  {
   "cell_type": "code",
   "execution_count": 6,
   "id": "91478efe",
   "metadata": {
    "colab": {
     "base_uri": "https://localhost:8080/"
    },
    "id": "91478efe",
    "outputId": "25d09541-5af6-4d0c-daa3-c6e1ff6e105b"
   },
   "outputs": [
    {
     "data": {
      "text/plain": [
       "STATION CODE                        object\n",
       "LOCATIONS                           object\n",
       "STATE                               object\n",
       "Temp                                object\n",
       "D.O. (mg/l)                         object\n",
       "PH                                  object\n",
       "CONDUCTIVITY (µmhos/cm)             object\n",
       "B.O.D. (mg/l)                       object\n",
       "NITRATENAN N+ NITRITENANN (mg/l)    object\n",
       "FECAL COLIFORM (MPN/100ml)          object\n",
       "TOTAL COLIFORM (MPN/100ml)Mean      object\n",
       "year                                 int64\n",
       "dtype: object"
      ]
     },
     "execution_count": 6,
     "metadata": {},
     "output_type": "execute_result"
    }
   ],
   "source": [
    "dataset.dtypes"
   ]
  },
  {
   "cell_type": "code",
   "execution_count": 7,
   "id": "0e715d74",
   "metadata": {
    "colab": {
     "base_uri": "https://localhost:8080/"
    },
    "id": "0e715d74",
    "outputId": "62c162e0-5404-44bf-bdac-be8fedbe573c"
   },
   "outputs": [
    {
     "data": {
      "text/plain": [
       "STATION CODE                         object\n",
       "LOCATIONS                            object\n",
       "STATE                                object\n",
       "Temp                                float64\n",
       "D.O. (mg/l)                         float64\n",
       "PH                                  float64\n",
       "CONDUCTIVITY (µmhos/cm)             float64\n",
       "B.O.D. (mg/l)                       float64\n",
       "NITRATENAN N+ NITRITENANN (mg/l)    float64\n",
       "FECAL COLIFORM (MPN/100ml)          float64\n",
       "TOTAL COLIFORM (MPN/100ml)Mean      float64\n",
       "year                                  int64\n",
       "dtype: object"
      ]
     },
     "execution_count": 7,
     "metadata": {},
     "output_type": "execute_result"
    }
   ],
   "source": [
    "# Converting object data type to numeric\n",
    "dataset['Temp']=pd.to_numeric(dataset['Temp'], errors='coerce')\n",
    "dataset['D.O. (mg/l)']=pd.to_numeric(dataset['D.O. (mg/l)'], errors='coerce')\n",
    "dataset['PH']=pd.to_numeric(dataset['PH'], errors='coerce')\n",
    "dataset['B.O.D. (mg/l)']=pd.to_numeric(dataset['B.O.D. (mg/l)'], errors='coerce')\n",
    "dataset['CONDUCTIVITY (µmhos/cm)']=pd.to_numeric(dataset['CONDUCTIVITY (µmhos/cm)'], errors='coerce')\n",
    "dataset['NITRATENAN N+ NITRITENANN (mg/l)']=pd.to_numeric(dataset['NITRATENAN N+ NITRITENANN (mg/l)'], errors='coerce')\n",
    "dataset['TOTAL COLIFORM (MPN/100ml)Mean']=pd.to_numeric(dataset['TOTAL COLIFORM (MPN/100ml)Mean'], errors='coerce')\n",
    "dataset['FECAL COLIFORM (MPN/100ml)']=pd.to_numeric(dataset['FECAL COLIFORM (MPN/100ml)'], errors='coerce')\n",
    "dataset.dtypes"
   ]
  },
  {
   "cell_type": "code",
   "execution_count": 8,
   "id": "c61a7816",
   "metadata": {
    "colab": {
     "base_uri": "https://localhost:8080/",
     "height": 379
    },
    "id": "c61a7816",
    "outputId": "6a1b0384-2435-4d24-d29b-64871c49fb25"
   },
   "outputs": [
    {
     "data": {
      "text/html": [
       "<div>\n",
       "<style scoped>\n",
       "    .dataframe tbody tr th:only-of-type {\n",
       "        vertical-align: middle;\n",
       "    }\n",
       "\n",
       "    .dataframe tbody tr th {\n",
       "        vertical-align: top;\n",
       "    }\n",
       "\n",
       "    .dataframe thead th {\n",
       "        text-align: right;\n",
       "    }\n",
       "</style>\n",
       "<table border=\"1\" class=\"dataframe\">\n",
       "  <thead>\n",
       "    <tr style=\"text-align: right;\">\n",
       "      <th></th>\n",
       "      <th>Temp</th>\n",
       "      <th>D.O. (mg/l)</th>\n",
       "      <th>PH</th>\n",
       "      <th>CONDUCTIVITY (µmhos/cm)</th>\n",
       "      <th>B.O.D. (mg/l)</th>\n",
       "      <th>NITRATENAN N+ NITRITENANN (mg/l)</th>\n",
       "      <th>FECAL COLIFORM (MPN/100ml)</th>\n",
       "      <th>TOTAL COLIFORM (MPN/100ml)Mean</th>\n",
       "      <th>year</th>\n",
       "    </tr>\n",
       "  </thead>\n",
       "  <tbody>\n",
       "    <tr>\n",
       "      <th>count</th>\n",
       "      <td>1899.000000</td>\n",
       "      <td>1960.000000</td>\n",
       "      <td>1983.000000</td>\n",
       "      <td>1966.000000</td>\n",
       "      <td>1948.000000</td>\n",
       "      <td>1766.000000</td>\n",
       "      <td>1.675000e+03</td>\n",
       "      <td>1.859000e+03</td>\n",
       "      <td>1991.000000</td>\n",
       "    </tr>\n",
       "    <tr>\n",
       "      <th>mean</th>\n",
       "      <td>26.209814</td>\n",
       "      <td>6.392637</td>\n",
       "      <td>112.090674</td>\n",
       "      <td>1786.466394</td>\n",
       "      <td>6.940049</td>\n",
       "      <td>1.623079</td>\n",
       "      <td>3.625294e+05</td>\n",
       "      <td>5.336872e+05</td>\n",
       "      <td>2010.038172</td>\n",
       "    </tr>\n",
       "    <tr>\n",
       "      <th>std</th>\n",
       "      <td>3.366388</td>\n",
       "      <td>1.332938</td>\n",
       "      <td>1878.930716</td>\n",
       "      <td>5552.276223</td>\n",
       "      <td>29.400026</td>\n",
       "      <td>4.090481</td>\n",
       "      <td>8.764767e+06</td>\n",
       "      <td>1.423428e+07</td>\n",
       "      <td>3.057333</td>\n",
       "    </tr>\n",
       "    <tr>\n",
       "      <th>min</th>\n",
       "      <td>10.000000</td>\n",
       "      <td>0.000000</td>\n",
       "      <td>0.000000</td>\n",
       "      <td>0.400000</td>\n",
       "      <td>0.100000</td>\n",
       "      <td>0.000000</td>\n",
       "      <td>0.000000e+00</td>\n",
       "      <td>0.000000e+00</td>\n",
       "      <td>2003.000000</td>\n",
       "    </tr>\n",
       "    <tr>\n",
       "      <th>25%</th>\n",
       "      <td>24.750000</td>\n",
       "      <td>5.900000</td>\n",
       "      <td>6.900000</td>\n",
       "      <td>78.000000</td>\n",
       "      <td>1.200000</td>\n",
       "      <td>0.240000</td>\n",
       "      <td>2.600000e+01</td>\n",
       "      <td>1.060000e+02</td>\n",
       "      <td>2008.000000</td>\n",
       "    </tr>\n",
       "    <tr>\n",
       "      <th>50%</th>\n",
       "      <td>27.000000</td>\n",
       "      <td>6.700000</td>\n",
       "      <td>7.300000</td>\n",
       "      <td>183.000000</td>\n",
       "      <td>1.896500</td>\n",
       "      <td>0.516000</td>\n",
       "      <td>2.210000e+02</td>\n",
       "      <td>4.680000e+02</td>\n",
       "      <td>2011.000000</td>\n",
       "    </tr>\n",
       "    <tr>\n",
       "      <th>75%</th>\n",
       "      <td>28.400000</td>\n",
       "      <td>7.200000</td>\n",
       "      <td>7.700000</td>\n",
       "      <td>592.750000</td>\n",
       "      <td>3.600000</td>\n",
       "      <td>1.500000</td>\n",
       "      <td>9.965000e+02</td>\n",
       "      <td>1.919000e+03</td>\n",
       "      <td>2013.000000</td>\n",
       "    </tr>\n",
       "    <tr>\n",
       "      <th>max</th>\n",
       "      <td>35.000000</td>\n",
       "      <td>11.400000</td>\n",
       "      <td>67115.000000</td>\n",
       "      <td>65700.000000</td>\n",
       "      <td>534.500000</td>\n",
       "      <td>108.700000</td>\n",
       "      <td>2.725216e+08</td>\n",
       "      <td>5.110909e+08</td>\n",
       "      <td>2014.000000</td>\n",
       "    </tr>\n",
       "  </tbody>\n",
       "</table>\n",
       "</div>"
      ],
      "text/plain": [
       "              Temp  D.O. (mg/l)            PH  CONDUCTIVITY (µmhos/cm)  \\\n",
       "count  1899.000000  1960.000000   1983.000000              1966.000000   \n",
       "mean     26.209814     6.392637    112.090674              1786.466394   \n",
       "std       3.366388     1.332938   1878.930716              5552.276223   \n",
       "min      10.000000     0.000000      0.000000                 0.400000   \n",
       "25%      24.750000     5.900000      6.900000                78.000000   \n",
       "50%      27.000000     6.700000      7.300000               183.000000   \n",
       "75%      28.400000     7.200000      7.700000               592.750000   \n",
       "max      35.000000    11.400000  67115.000000             65700.000000   \n",
       "\n",
       "       B.O.D. (mg/l)  NITRATENAN N+ NITRITENANN (mg/l)  \\\n",
       "count    1948.000000                       1766.000000   \n",
       "mean        6.940049                          1.623079   \n",
       "std        29.400026                          4.090481   \n",
       "min         0.100000                          0.000000   \n",
       "25%         1.200000                          0.240000   \n",
       "50%         1.896500                          0.516000   \n",
       "75%         3.600000                          1.500000   \n",
       "max       534.500000                        108.700000   \n",
       "\n",
       "       FECAL COLIFORM (MPN/100ml)  TOTAL COLIFORM (MPN/100ml)Mean         year  \n",
       "count                1.675000e+03                    1.859000e+03  1991.000000  \n",
       "mean                 3.625294e+05                    5.336872e+05  2010.038172  \n",
       "std                  8.764767e+06                    1.423428e+07     3.057333  \n",
       "min                  0.000000e+00                    0.000000e+00  2003.000000  \n",
       "25%                  2.600000e+01                    1.060000e+02  2008.000000  \n",
       "50%                  2.210000e+02                    4.680000e+02  2011.000000  \n",
       "75%                  9.965000e+02                    1.919000e+03  2013.000000  \n",
       "max                  2.725216e+08                    5.110909e+08  2014.000000  "
      ]
     },
     "execution_count": 8,
     "metadata": {},
     "output_type": "execute_result"
    }
   ],
   "source": [
    "dataset.describe()"
   ]
  },
  {
   "cell_type": "code",
   "execution_count": 9,
   "id": "419c0f46",
   "metadata": {
    "id": "419c0f46"
   },
   "outputs": [],
   "source": [
    "# Replacing string NAN values with actual NAN value (np.nan)\n",
    "def convert_to_nan(dataset):\n",
    "    n_col = dataset.shape[1]\n",
    "    for index in range(n_col):\n",
    "        dataset.iloc[:, index]  = dataset.iloc[:, index].replace(\"NAN\", np.nan)\n",
    "    return dataset\n",
    "\n",
    "dataset = convert_to_nan(dataset)"
   ]
  },
  {
   "cell_type": "markdown",
   "id": "bd20c902",
   "metadata": {
    "id": "bd20c902"
   },
   "source": [
    "# Data Preprocessing"
   ]
  },
  {
   "cell_type": "code",
   "execution_count": 10,
   "id": "b9b28ea6",
   "metadata": {
    "colab": {
     "base_uri": "https://localhost:8080/"
    },
    "id": "b9b28ea6",
    "outputId": "5a6f3129-3c8f-4b27-fdfc-87f79d50b562"
   },
   "outputs": [
    {
     "data": {
      "text/plain": [
       "STATION CODE                        122\n",
       "LOCATIONS                           184\n",
       "STATE                               761\n",
       "Temp                                 92\n",
       "D.O. (mg/l)                          31\n",
       "PH                                    8\n",
       "CONDUCTIVITY (µmhos/cm)              25\n",
       "B.O.D. (mg/l)                        43\n",
       "NITRATENAN N+ NITRITENANN (mg/l)    225\n",
       "FECAL COLIFORM (MPN/100ml)          316\n",
       "TOTAL COLIFORM (MPN/100ml)Mean      132\n",
       "year                                  0\n",
       "dtype: int64"
      ]
     },
     "execution_count": 10,
     "metadata": {},
     "output_type": "execute_result"
    }
   ],
   "source": [
    "# finding null values\n",
    "dataset.isnull().sum()"
   ]
  },
  {
   "cell_type": "code",
   "execution_count": 11,
   "id": "779f503d",
   "metadata": {
    "colab": {
     "base_uri": "https://localhost:8080/",
     "height": 745
    },
    "id": "779f503d",
    "outputId": "cd0bbd98-1c28-45bb-a4af-21cfbf69791d"
   },
   "outputs": [
    {
     "data": {
      "text/html": [
       "<div>\n",
       "<style scoped>\n",
       "    .dataframe tbody tr th:only-of-type {\n",
       "        vertical-align: middle;\n",
       "    }\n",
       "\n",
       "    .dataframe tbody tr th {\n",
       "        vertical-align: top;\n",
       "    }\n",
       "\n",
       "    .dataframe thead th {\n",
       "        text-align: right;\n",
       "    }\n",
       "</style>\n",
       "<table border=\"1\" class=\"dataframe\">\n",
       "  <thead>\n",
       "    <tr style=\"text-align: right;\">\n",
       "      <th></th>\n",
       "      <th>STATION CODE</th>\n",
       "      <th>LOCATIONS</th>\n",
       "      <th>STATE</th>\n",
       "      <th>Temp</th>\n",
       "      <th>D.O. (mg/l)</th>\n",
       "      <th>PH</th>\n",
       "      <th>CONDUCTIVITY (µmhos/cm)</th>\n",
       "      <th>B.O.D. (mg/l)</th>\n",
       "      <th>NITRATENAN N+ NITRITENANN (mg/l)</th>\n",
       "      <th>FECAL COLIFORM (MPN/100ml)</th>\n",
       "      <th>TOTAL COLIFORM (MPN/100ml)Mean</th>\n",
       "      <th>year</th>\n",
       "    </tr>\n",
       "  </thead>\n",
       "  <tbody>\n",
       "    <tr>\n",
       "      <th>0</th>\n",
       "      <td>1393</td>\n",
       "      <td>DAMANGANGA AT D/S OF MADHUBAN, DAMAN</td>\n",
       "      <td>DAMAN &amp; DIU</td>\n",
       "      <td>30.6</td>\n",
       "      <td>6.7</td>\n",
       "      <td>7.50</td>\n",
       "      <td>203.0</td>\n",
       "      <td>NaN</td>\n",
       "      <td>0.100</td>\n",
       "      <td>11.0</td>\n",
       "      <td>27.0</td>\n",
       "      <td>2014</td>\n",
       "    </tr>\n",
       "    <tr>\n",
       "      <th>1</th>\n",
       "      <td>1399</td>\n",
       "      <td>ZUARI AT D/S OF PT. WHERE KUMBARJRIA CANAL JOI...</td>\n",
       "      <td>GOA</td>\n",
       "      <td>29.8</td>\n",
       "      <td>5.7</td>\n",
       "      <td>7.20</td>\n",
       "      <td>189.0</td>\n",
       "      <td>2.000</td>\n",
       "      <td>0.200</td>\n",
       "      <td>4953.0</td>\n",
       "      <td>8391.0</td>\n",
       "      <td>2014</td>\n",
       "    </tr>\n",
       "    <tr>\n",
       "      <th>2</th>\n",
       "      <td>1475</td>\n",
       "      <td>ZUARI AT PANCHAWADI</td>\n",
       "      <td>GOA</td>\n",
       "      <td>29.5</td>\n",
       "      <td>6.3</td>\n",
       "      <td>6.90</td>\n",
       "      <td>179.0</td>\n",
       "      <td>1.700</td>\n",
       "      <td>0.100</td>\n",
       "      <td>3243.0</td>\n",
       "      <td>5330.0</td>\n",
       "      <td>2014</td>\n",
       "    </tr>\n",
       "    <tr>\n",
       "      <th>3</th>\n",
       "      <td>3181</td>\n",
       "      <td>RIVER ZUARI AT BORIM BRIDGE</td>\n",
       "      <td>GOA</td>\n",
       "      <td>29.7</td>\n",
       "      <td>5.8</td>\n",
       "      <td>6.90</td>\n",
       "      <td>64.0</td>\n",
       "      <td>3.800</td>\n",
       "      <td>0.500</td>\n",
       "      <td>5382.0</td>\n",
       "      <td>8443.0</td>\n",
       "      <td>2014</td>\n",
       "    </tr>\n",
       "    <tr>\n",
       "      <th>4</th>\n",
       "      <td>3182</td>\n",
       "      <td>RIVER ZUARI AT MARCAIM JETTY</td>\n",
       "      <td>GOA</td>\n",
       "      <td>29.5</td>\n",
       "      <td>5.8</td>\n",
       "      <td>7.30</td>\n",
       "      <td>83.0</td>\n",
       "      <td>1.900</td>\n",
       "      <td>0.400</td>\n",
       "      <td>3428.0</td>\n",
       "      <td>5500.0</td>\n",
       "      <td>2014</td>\n",
       "    </tr>\n",
       "    <tr>\n",
       "      <th>...</th>\n",
       "      <td>...</td>\n",
       "      <td>...</td>\n",
       "      <td>...</td>\n",
       "      <td>...</td>\n",
       "      <td>...</td>\n",
       "      <td>...</td>\n",
       "      <td>...</td>\n",
       "      <td>...</td>\n",
       "      <td>...</td>\n",
       "      <td>...</td>\n",
       "      <td>...</td>\n",
       "      <td>...</td>\n",
       "    </tr>\n",
       "    <tr>\n",
       "      <th>1897</th>\n",
       "      <td>NaN</td>\n",
       "      <td>PALAR AT VANIYAMBADI WATER SUPPLY HEAD WORK, T...</td>\n",
       "      <td>NaN</td>\n",
       "      <td>28.0</td>\n",
       "      <td>6.6</td>\n",
       "      <td>7.49</td>\n",
       "      <td>571.5</td>\n",
       "      <td>2.091</td>\n",
       "      <td>0.256</td>\n",
       "      <td>151.0</td>\n",
       "      <td>273.0</td>\n",
       "      <td>2005</td>\n",
       "    </tr>\n",
       "    <tr>\n",
       "      <th>1898</th>\n",
       "      <td>NaN</td>\n",
       "      <td>GUMTI AT U/S SOUTH TRIPURA,TRIPURA</td>\n",
       "      <td>NaN</td>\n",
       "      <td>28.0</td>\n",
       "      <td>5.4</td>\n",
       "      <td>7.16</td>\n",
       "      <td>75.8</td>\n",
       "      <td>2.092</td>\n",
       "      <td>NaN</td>\n",
       "      <td>404.0</td>\n",
       "      <td>513.0</td>\n",
       "      <td>2005</td>\n",
       "    </tr>\n",
       "    <tr>\n",
       "      <th>1899</th>\n",
       "      <td>NaN</td>\n",
       "      <td>GUMTI AT D/S SOUTH TRIPURA, TRIPURA</td>\n",
       "      <td>NaN</td>\n",
       "      <td>30.0</td>\n",
       "      <td>5.4</td>\n",
       "      <td>7.37</td>\n",
       "      <td>104.8</td>\n",
       "      <td>1.802</td>\n",
       "      <td>0.215</td>\n",
       "      <td>456.0</td>\n",
       "      <td>557.0</td>\n",
       "      <td>2005</td>\n",
       "    </tr>\n",
       "    <tr>\n",
       "      <th>1900</th>\n",
       "      <td>NaN</td>\n",
       "      <td>CHANDRAPUR, AGARTALA D/S OF HAORA RIVER, TRIPURA</td>\n",
       "      <td>NaN</td>\n",
       "      <td>29.0</td>\n",
       "      <td>5.3</td>\n",
       "      <td>7.37</td>\n",
       "      <td>102.2</td>\n",
       "      <td>2.552</td>\n",
       "      <td>0.202</td>\n",
       "      <td>526.0</td>\n",
       "      <td>583.0</td>\n",
       "      <td>2005</td>\n",
       "    </tr>\n",
       "    <tr>\n",
       "      <th>1912</th>\n",
       "      <td>NaN</td>\n",
       "      <td>NaN</td>\n",
       "      <td>NaN</td>\n",
       "      <td>NaN</td>\n",
       "      <td>NaN</td>\n",
       "      <td>NaN</td>\n",
       "      <td>NaN</td>\n",
       "      <td>NaN</td>\n",
       "      <td>NaN</td>\n",
       "      <td>NaN</td>\n",
       "      <td>NaN</td>\n",
       "      <td>2003</td>\n",
       "    </tr>\n",
       "  </tbody>\n",
       "</table>\n",
       "<p>1902 rows × 12 columns</p>\n",
       "</div>"
      ],
      "text/plain": [
       "     STATION CODE                                          LOCATIONS  \\\n",
       "0            1393               DAMANGANGA AT D/S OF MADHUBAN, DAMAN   \n",
       "1            1399  ZUARI AT D/S OF PT. WHERE KUMBARJRIA CANAL JOI...   \n",
       "2            1475                                ZUARI AT PANCHAWADI   \n",
       "3            3181                        RIVER ZUARI AT BORIM BRIDGE   \n",
       "4            3182                       RIVER ZUARI AT MARCAIM JETTY   \n",
       "...           ...                                                ...   \n",
       "1897          NaN  PALAR AT VANIYAMBADI WATER SUPPLY HEAD WORK, T...   \n",
       "1898          NaN                 GUMTI AT U/S SOUTH TRIPURA,TRIPURA   \n",
       "1899          NaN                GUMTI AT D/S SOUTH TRIPURA, TRIPURA   \n",
       "1900          NaN   CHANDRAPUR, AGARTALA D/S OF HAORA RIVER, TRIPURA   \n",
       "1912          NaN                                                NaN   \n",
       "\n",
       "            STATE  Temp  D.O. (mg/l)    PH  CONDUCTIVITY (µmhos/cm)  \\\n",
       "0     DAMAN & DIU  30.6          6.7  7.50                    203.0   \n",
       "1             GOA  29.8          5.7  7.20                    189.0   \n",
       "2             GOA  29.5          6.3  6.90                    179.0   \n",
       "3             GOA  29.7          5.8  6.90                     64.0   \n",
       "4             GOA  29.5          5.8  7.30                     83.0   \n",
       "...           ...   ...          ...   ...                      ...   \n",
       "1897          NaN  28.0          6.6  7.49                    571.5   \n",
       "1898          NaN  28.0          5.4  7.16                     75.8   \n",
       "1899          NaN  30.0          5.4  7.37                    104.8   \n",
       "1900          NaN  29.0          5.3  7.37                    102.2   \n",
       "1912          NaN   NaN          NaN   NaN                      NaN   \n",
       "\n",
       "      B.O.D. (mg/l)  NITRATENAN N+ NITRITENANN (mg/l)  \\\n",
       "0               NaN                             0.100   \n",
       "1             2.000                             0.200   \n",
       "2             1.700                             0.100   \n",
       "3             3.800                             0.500   \n",
       "4             1.900                             0.400   \n",
       "...             ...                               ...   \n",
       "1897          2.091                             0.256   \n",
       "1898          2.092                               NaN   \n",
       "1899          1.802                             0.215   \n",
       "1900          2.552                             0.202   \n",
       "1912            NaN                               NaN   \n",
       "\n",
       "      FECAL COLIFORM (MPN/100ml)  TOTAL COLIFORM (MPN/100ml)Mean  year  \n",
       "0                           11.0                            27.0  2014  \n",
       "1                         4953.0                          8391.0  2014  \n",
       "2                         3243.0                          5330.0  2014  \n",
       "3                         5382.0                          8443.0  2014  \n",
       "4                         3428.0                          5500.0  2014  \n",
       "...                          ...                             ...   ...  \n",
       "1897                       151.0                           273.0  2005  \n",
       "1898                       404.0                           513.0  2005  \n",
       "1899                       456.0                           557.0  2005  \n",
       "1900                       526.0                           583.0  2005  \n",
       "1912                         NaN                             NaN  2003  \n",
       "\n",
       "[1902 rows x 12 columns]"
      ]
     },
     "execution_count": 11,
     "metadata": {},
     "output_type": "execute_result"
    }
   ],
   "source": [
    "# removing ph > 14\n",
    "dataset_phfilter= dataset[dataset[\"PH\"]>14]\n",
    "dataset_phfilter\n",
    "dataset_ph_indices = dataset_phfilter.index\n",
    "dataset.drop(dataset_ph_indices, axis=0, inplace=True)\n",
    "dataset"
   ]
  },
  {
   "cell_type": "code",
   "execution_count": 12,
   "id": "e1299e27",
   "metadata": {
    "id": "e1299e27"
   },
   "outputs": [],
   "source": [
    "# numeric data - NULL values to median\n",
    "from sklearn.impute import SimpleImputer\n",
    "dataset_numeric = dataset.select_dtypes(exclude=\"object\")\n",
    "dataset_numeric_col = dataset_numeric.columns\n",
    "\n",
    "imputer = SimpleImputer(strategy=\"median\")\n",
    "\n",
    "dataset_numeric = imputer.fit_transform(dataset_numeric)\n",
    "dataset_numeric = pd.DataFrame(dataset_numeric, columns=dataset_numeric_col)"
   ]
  },
  {
   "cell_type": "code",
   "execution_count": 13,
   "id": "45252234",
   "metadata": {
    "colab": {
     "base_uri": "https://localhost:8080/"
    },
    "id": "45252234",
    "outputId": "b39c5023-0fa8-486a-b65c-5e29ccd4bf3d"
   },
   "outputs": [
    {
     "data": {
      "text/plain": [
       "STATION CODE    122\n",
       "LOCATIONS       184\n",
       "STATE           672\n",
       "dtype: int64"
      ]
     },
     "execution_count": 13,
     "metadata": {},
     "output_type": "execute_result"
    }
   ],
   "source": [
    "# categorical data - NULL values\n",
    "dataset_categorical = dataset.select_dtypes(include=\"object\")\n",
    "dataset_categorical.isnull().sum()"
   ]
  },
  {
   "cell_type": "code",
   "execution_count": 14,
   "id": "6dbc1b22",
   "metadata": {
    "colab": {
     "base_uri": "https://localhost:8080/",
     "height": 300
    },
    "id": "6dbc1b22",
    "outputId": "4918ba0c-9512-4c51-d9bf-e0508e099ed5"
   },
   "outputs": [
    {
     "data": {
      "text/html": [
       "<div>\n",
       "<style scoped>\n",
       "    .dataframe tbody tr th:only-of-type {\n",
       "        vertical-align: middle;\n",
       "    }\n",
       "\n",
       "    .dataframe tbody tr th {\n",
       "        vertical-align: top;\n",
       "    }\n",
       "\n",
       "    .dataframe thead th {\n",
       "        text-align: right;\n",
       "    }\n",
       "</style>\n",
       "<table border=\"1\" class=\"dataframe\">\n",
       "  <thead>\n",
       "    <tr style=\"text-align: right;\">\n",
       "      <th></th>\n",
       "      <th>STATION CODE</th>\n",
       "      <th>LOCATIONS</th>\n",
       "      <th>STATE</th>\n",
       "    </tr>\n",
       "  </thead>\n",
       "  <tbody>\n",
       "    <tr>\n",
       "      <th>166</th>\n",
       "      <td>1330</td>\n",
       "      <td>TAMBIRAPARANI AT ARUMUGANERI, TAMILNADU</td>\n",
       "      <td>TAMILNADU</td>\n",
       "    </tr>\n",
       "    <tr>\n",
       "      <th>424</th>\n",
       "      <td>1330</td>\n",
       "      <td>TAMBIRAPARANI AT ARUMUGANERI, TAMILNADU</td>\n",
       "      <td>TAMILNADU</td>\n",
       "    </tr>\n",
       "    <tr>\n",
       "      <th>677</th>\n",
       "      <td>1330</td>\n",
       "      <td>TAMBIRAPARANI AT ARUMUGANERI</td>\n",
       "      <td>TAMILNADU</td>\n",
       "    </tr>\n",
       "    <tr>\n",
       "      <th>1168</th>\n",
       "      <td>1330</td>\n",
       "      <td>TAMBIRAPARANI AT ARUMUGANERI</td>\n",
       "      <td>TAMILNADU</td>\n",
       "    </tr>\n",
       "    <tr>\n",
       "      <th>1351</th>\n",
       "      <td>1330</td>\n",
       "      <td>NaN</td>\n",
       "      <td>TAMBIRAPARANI AT ARUMUGANERI, TAMILNADU</td>\n",
       "    </tr>\n",
       "    <tr>\n",
       "      <th>1513</th>\n",
       "      <td>1330</td>\n",
       "      <td>TAMBIRAPARANI AT ARUMUGANERI, TAMILNADU</td>\n",
       "      <td>TAMILNADU</td>\n",
       "    </tr>\n",
       "    <tr>\n",
       "      <th>1626</th>\n",
       "      <td>1330</td>\n",
       "      <td>TAMBIRAPARANI AT ARUMUGANERI, TAMILNADU</td>\n",
       "      <td>TAMILNADU</td>\n",
       "    </tr>\n",
       "    <tr>\n",
       "      <th>1745</th>\n",
       "      <td>1330</td>\n",
       "      <td>TAMBIRAPARANI AT ARUMUGANERI, TAMILNADU</td>\n",
       "      <td>TAMILNADU</td>\n",
       "    </tr>\n",
       "  </tbody>\n",
       "</table>\n",
       "</div>"
      ],
      "text/plain": [
       "     STATION CODE                                LOCATIONS  \\\n",
       "166          1330  TAMBIRAPARANI AT ARUMUGANERI, TAMILNADU   \n",
       "424          1330  TAMBIRAPARANI AT ARUMUGANERI, TAMILNADU   \n",
       "677          1330             TAMBIRAPARANI AT ARUMUGANERI   \n",
       "1168         1330             TAMBIRAPARANI AT ARUMUGANERI   \n",
       "1351         1330                                      NaN   \n",
       "1513         1330  TAMBIRAPARANI AT ARUMUGANERI, TAMILNADU   \n",
       "1626         1330  TAMBIRAPARANI AT ARUMUGANERI, TAMILNADU   \n",
       "1745         1330  TAMBIRAPARANI AT ARUMUGANERI, TAMILNADU   \n",
       "\n",
       "                                        STATE  \n",
       "166                                 TAMILNADU  \n",
       "424                                 TAMILNADU  \n",
       "677                                 TAMILNADU  \n",
       "1168                                TAMILNADU  \n",
       "1351  TAMBIRAPARANI AT ARUMUGANERI, TAMILNADU  \n",
       "1513                                TAMILNADU  \n",
       "1626                                TAMILNADU  \n",
       "1745                                TAMILNADU  "
      ]
     },
     "execution_count": 14,
     "metadata": {},
     "output_type": "execute_result"
    }
   ],
   "source": [
    "# handling missing values (categorical)\n",
    "pd.set_option('mode.chained_assignment', None)\n",
    "dataset_categorical_copy = dataset_categorical.copy()\n",
    "dataset_categorical_copy[dataset_categorical_copy[\"STATION CODE\"] == \"1330\"]\n",
    "\n",
    "# 1330 - nan values replaced with TN\n",
    "dataset_categorical_copy[\"STATE\"][dataset_categorical_copy[\"STATION CODE\"] == \"1330\"] = dataset_categorical_copy[\"STATE\"][dataset_categorical_copy[\"STATION CODE\"] == \"1330\"].fillna(\"TAMILNADU\")\n",
    "dataset_categorical_copy[dataset_categorical_copy[\"STATION CODE\"] == \"1330\"]"
   ]
  },
  {
   "cell_type": "code",
   "execution_count": 15,
   "id": "30ce95d6",
   "metadata": {
    "colab": {
     "base_uri": "https://localhost:8080/",
     "height": 300
    },
    "id": "30ce95d6",
    "outputId": "60318532-e4bd-48f7-a81d-ba4bdbd3d7b7"
   },
   "outputs": [
    {
     "data": {
      "text/html": [
       "<div>\n",
       "<style scoped>\n",
       "    .dataframe tbody tr th:only-of-type {\n",
       "        vertical-align: middle;\n",
       "    }\n",
       "\n",
       "    .dataframe tbody tr th {\n",
       "        vertical-align: top;\n",
       "    }\n",
       "\n",
       "    .dataframe thead th {\n",
       "        text-align: right;\n",
       "    }\n",
       "</style>\n",
       "<table border=\"1\" class=\"dataframe\">\n",
       "  <thead>\n",
       "    <tr style=\"text-align: right;\">\n",
       "      <th></th>\n",
       "      <th>STATION CODE</th>\n",
       "      <th>LOCATIONS</th>\n",
       "      <th>STATE</th>\n",
       "    </tr>\n",
       "  </thead>\n",
       "  <tbody>\n",
       "    <tr>\n",
       "      <th>166</th>\n",
       "      <td>1330</td>\n",
       "      <td>TAMBIRAPARANI AT ARUMUGANERI, TAMILNADU</td>\n",
       "      <td>TAMILNADU</td>\n",
       "    </tr>\n",
       "    <tr>\n",
       "      <th>424</th>\n",
       "      <td>1330</td>\n",
       "      <td>TAMBIRAPARANI AT ARUMUGANERI, TAMILNADU</td>\n",
       "      <td>TAMILNADU</td>\n",
       "    </tr>\n",
       "    <tr>\n",
       "      <th>677</th>\n",
       "      <td>1330</td>\n",
       "      <td>TAMBIRAPARANI AT ARUMUGANERI</td>\n",
       "      <td>TAMILNADU</td>\n",
       "    </tr>\n",
       "    <tr>\n",
       "      <th>1168</th>\n",
       "      <td>1330</td>\n",
       "      <td>TAMBIRAPARANI AT ARUMUGANERI</td>\n",
       "      <td>TAMILNADU</td>\n",
       "    </tr>\n",
       "    <tr>\n",
       "      <th>1351</th>\n",
       "      <td>1330</td>\n",
       "      <td>TAMBIRAPARANI AT ARUMUGANERI, TAMILNADU</td>\n",
       "      <td>NaN</td>\n",
       "    </tr>\n",
       "    <tr>\n",
       "      <th>1513</th>\n",
       "      <td>1330</td>\n",
       "      <td>TAMBIRAPARANI AT ARUMUGANERI, TAMILNADU</td>\n",
       "      <td>TAMILNADU</td>\n",
       "    </tr>\n",
       "    <tr>\n",
       "      <th>1626</th>\n",
       "      <td>1330</td>\n",
       "      <td>TAMBIRAPARANI AT ARUMUGANERI, TAMILNADU</td>\n",
       "      <td>TAMILNADU</td>\n",
       "    </tr>\n",
       "    <tr>\n",
       "      <th>1745</th>\n",
       "      <td>1330</td>\n",
       "      <td>TAMBIRAPARANI AT ARUMUGANERI, TAMILNADU</td>\n",
       "      <td>TAMILNADU</td>\n",
       "    </tr>\n",
       "  </tbody>\n",
       "</table>\n",
       "</div>"
      ],
      "text/plain": [
       "     STATION CODE                                LOCATIONS      STATE\n",
       "166          1330  TAMBIRAPARANI AT ARUMUGANERI, TAMILNADU  TAMILNADU\n",
       "424          1330  TAMBIRAPARANI AT ARUMUGANERI, TAMILNADU  TAMILNADU\n",
       "677          1330             TAMBIRAPARANI AT ARUMUGANERI  TAMILNADU\n",
       "1168         1330             TAMBIRAPARANI AT ARUMUGANERI  TAMILNADU\n",
       "1351         1330  TAMBIRAPARANI AT ARUMUGANERI, TAMILNADU        NaN\n",
       "1513         1330  TAMBIRAPARANI AT ARUMUGANERI, TAMILNADU  TAMILNADU\n",
       "1626         1330  TAMBIRAPARANI AT ARUMUGANERI, TAMILNADU  TAMILNADU\n",
       "1745         1330  TAMBIRAPARANI AT ARUMUGANERI, TAMILNADU  TAMILNADU"
      ]
     },
     "execution_count": 15,
     "metadata": {},
     "output_type": "execute_result"
    }
   ],
   "source": [
    "def fill_locations(dataset_categorical):\n",
    "    location_null = dataset_categorical[dataset_categorical[\"LOCATIONS\"].isnull()]\n",
    "    location_null_indices = location_null.index\n",
    "    for index in location_null_indices:\n",
    "        state_value = location_null[\"STATE\"][index]\n",
    "        location_null[\"LOCATIONS\"][index] = state_value\n",
    "        location_null[\"STATE\"][index] = np.nan\n",
    "    dataset_categorical[dataset_categorical[\"LOCATIONS\"].isnull()] = location_null\n",
    "    return\n",
    "\n",
    "fill_locations(dataset_categorical_copy)\n",
    "dataset_categorical_copy[dataset_categorical_copy[\"STATION CODE\"] == \"1330\"]"
   ]
  },
  {
   "cell_type": "code",
   "execution_count": 16,
   "id": "8044235f",
   "metadata": {
    "colab": {
     "base_uri": "https://localhost:8080/",
     "height": 269
    },
    "id": "8044235f",
    "outputId": "8528e56d-acf5-4585-8f3e-85e646861b91"
   },
   "outputs": [
    {
     "data": {
      "text/html": [
       "<div>\n",
       "<style scoped>\n",
       "    .dataframe tbody tr th:only-of-type {\n",
       "        vertical-align: middle;\n",
       "    }\n",
       "\n",
       "    .dataframe tbody tr th {\n",
       "        vertical-align: top;\n",
       "    }\n",
       "\n",
       "    .dataframe thead th {\n",
       "        text-align: right;\n",
       "    }\n",
       "</style>\n",
       "<table border=\"1\" class=\"dataframe\">\n",
       "  <thead>\n",
       "    <tr style=\"text-align: right;\">\n",
       "      <th></th>\n",
       "      <th>STATION CODE</th>\n",
       "      <th>LOCATIONS</th>\n",
       "      <th>STATE</th>\n",
       "    </tr>\n",
       "  </thead>\n",
       "  <tbody>\n",
       "    <tr>\n",
       "      <th>166</th>\n",
       "      <td>1330</td>\n",
       "      <td>TAMBIRAPARANI AT ARUMUGANERI, TAMILNADU</td>\n",
       "      <td>TAMILNADU</td>\n",
       "    </tr>\n",
       "    <tr>\n",
       "      <th>424</th>\n",
       "      <td>1330</td>\n",
       "      <td>TAMBIRAPARANI AT ARUMUGANERI, TAMILNADU</td>\n",
       "      <td>TAMILNADU</td>\n",
       "    </tr>\n",
       "    <tr>\n",
       "      <th>1351</th>\n",
       "      <td>1330</td>\n",
       "      <td>TAMBIRAPARANI AT ARUMUGANERI, TAMILNADU</td>\n",
       "      <td>NaN</td>\n",
       "    </tr>\n",
       "    <tr>\n",
       "      <th>1513</th>\n",
       "      <td>1330</td>\n",
       "      <td>TAMBIRAPARANI AT ARUMUGANERI, TAMILNADU</td>\n",
       "      <td>TAMILNADU</td>\n",
       "    </tr>\n",
       "    <tr>\n",
       "      <th>1626</th>\n",
       "      <td>1330</td>\n",
       "      <td>TAMBIRAPARANI AT ARUMUGANERI, TAMILNADU</td>\n",
       "      <td>TAMILNADU</td>\n",
       "    </tr>\n",
       "    <tr>\n",
       "      <th>1745</th>\n",
       "      <td>1330</td>\n",
       "      <td>TAMBIRAPARANI AT ARUMUGANERI, TAMILNADU</td>\n",
       "      <td>TAMILNADU</td>\n",
       "    </tr>\n",
       "    <tr>\n",
       "      <th>1896</th>\n",
       "      <td>NaN</td>\n",
       "      <td>TAMBIRAPARANI AT ARUMUGANERI, TAMILNADU</td>\n",
       "      <td>NaN</td>\n",
       "    </tr>\n",
       "  </tbody>\n",
       "</table>\n",
       "</div>"
      ],
      "text/plain": [
       "     STATION CODE                                LOCATIONS      STATE\n",
       "166          1330  TAMBIRAPARANI AT ARUMUGANERI, TAMILNADU  TAMILNADU\n",
       "424          1330  TAMBIRAPARANI AT ARUMUGANERI, TAMILNADU  TAMILNADU\n",
       "1351         1330  TAMBIRAPARANI AT ARUMUGANERI, TAMILNADU        NaN\n",
       "1513         1330  TAMBIRAPARANI AT ARUMUGANERI, TAMILNADU  TAMILNADU\n",
       "1626         1330  TAMBIRAPARANI AT ARUMUGANERI, TAMILNADU  TAMILNADU\n",
       "1745         1330  TAMBIRAPARANI AT ARUMUGANERI, TAMILNADU  TAMILNADU\n",
       "1896          NaN  TAMBIRAPARANI AT ARUMUGANERI, TAMILNADU        NaN"
      ]
     },
     "execution_count": 16,
     "metadata": {},
     "output_type": "execute_result"
    }
   ],
   "source": [
    "dataset_categorical_copy[dataset_categorical_copy[\"LOCATIONS\"] == \"TAMBIRAPARANI AT ARUMUGANERI, TAMILNADU\"]"
   ]
  },
  {
   "cell_type": "code",
   "execution_count": 17,
   "id": "427761a9",
   "metadata": {
    "colab": {
     "base_uri": "https://localhost:8080/",
     "height": 269
    },
    "id": "427761a9",
    "outputId": "6b9ded39-9067-4bac-8ebc-ae7cbf7d09c6"
   },
   "outputs": [
    {
     "data": {
      "text/html": [
       "<div>\n",
       "<style scoped>\n",
       "    .dataframe tbody tr th:only-of-type {\n",
       "        vertical-align: middle;\n",
       "    }\n",
       "\n",
       "    .dataframe tbody tr th {\n",
       "        vertical-align: top;\n",
       "    }\n",
       "\n",
       "    .dataframe thead th {\n",
       "        text-align: right;\n",
       "    }\n",
       "</style>\n",
       "<table border=\"1\" class=\"dataframe\">\n",
       "  <thead>\n",
       "    <tr style=\"text-align: right;\">\n",
       "      <th></th>\n",
       "      <th>STATION CODE</th>\n",
       "      <th>LOCATIONS</th>\n",
       "      <th>STATE</th>\n",
       "    </tr>\n",
       "  </thead>\n",
       "  <tbody>\n",
       "    <tr>\n",
       "      <th>166</th>\n",
       "      <td>1330</td>\n",
       "      <td>TAMBIRAPARANI AT ARUMUGANERI, TAMILNADU</td>\n",
       "      <td>TAMILNADU</td>\n",
       "    </tr>\n",
       "    <tr>\n",
       "      <th>424</th>\n",
       "      <td>1330</td>\n",
       "      <td>TAMBIRAPARANI AT ARUMUGANERI, TAMILNADU</td>\n",
       "      <td>TAMILNADU</td>\n",
       "    </tr>\n",
       "    <tr>\n",
       "      <th>1351</th>\n",
       "      <td>1330</td>\n",
       "      <td>TAMBIRAPARANI AT ARUMUGANERI, TAMILNADU</td>\n",
       "      <td>NaN</td>\n",
       "    </tr>\n",
       "    <tr>\n",
       "      <th>1513</th>\n",
       "      <td>1330</td>\n",
       "      <td>TAMBIRAPARANI AT ARUMUGANERI, TAMILNADU</td>\n",
       "      <td>TAMILNADU</td>\n",
       "    </tr>\n",
       "    <tr>\n",
       "      <th>1626</th>\n",
       "      <td>1330</td>\n",
       "      <td>TAMBIRAPARANI AT ARUMUGANERI, TAMILNADU</td>\n",
       "      <td>TAMILNADU</td>\n",
       "    </tr>\n",
       "    <tr>\n",
       "      <th>1745</th>\n",
       "      <td>1330</td>\n",
       "      <td>TAMBIRAPARANI AT ARUMUGANERI, TAMILNADU</td>\n",
       "      <td>TAMILNADU</td>\n",
       "    </tr>\n",
       "    <tr>\n",
       "      <th>1896</th>\n",
       "      <td>1330</td>\n",
       "      <td>TAMBIRAPARANI AT ARUMUGANERI, TAMILNADU</td>\n",
       "      <td>NaN</td>\n",
       "    </tr>\n",
       "  </tbody>\n",
       "</table>\n",
       "</div>"
      ],
      "text/plain": [
       "     STATION CODE                                LOCATIONS      STATE\n",
       "166          1330  TAMBIRAPARANI AT ARUMUGANERI, TAMILNADU  TAMILNADU\n",
       "424          1330  TAMBIRAPARANI AT ARUMUGANERI, TAMILNADU  TAMILNADU\n",
       "1351         1330  TAMBIRAPARANI AT ARUMUGANERI, TAMILNADU        NaN\n",
       "1513         1330  TAMBIRAPARANI AT ARUMUGANERI, TAMILNADU  TAMILNADU\n",
       "1626         1330  TAMBIRAPARANI AT ARUMUGANERI, TAMILNADU  TAMILNADU\n",
       "1745         1330  TAMBIRAPARANI AT ARUMUGANERI, TAMILNADU  TAMILNADU\n",
       "1896         1330  TAMBIRAPARANI AT ARUMUGANERI, TAMILNADU        NaN"
      ]
     },
     "execution_count": 17,
     "metadata": {},
     "output_type": "execute_result"
    }
   ],
   "source": [
    "def fill_code(dataset_categorical):\n",
    "    station_null = dataset_categorical[dataset_categorical[\"STATION CODE\"].isnull()]\n",
    "    station_null_indices = station_null.index\n",
    "    for index in station_null_indices:\n",
    "        stat_code = np.nan\n",
    "        location_index = station_null[\"LOCATIONS\"][index]\n",
    "        code_at_location = dataset_categorical[\"STATION CODE\"][dataset_categorical[\"LOCATIONS\"] == location_index]\n",
    "        for index_code in code_at_location.index:\n",
    "            if (code_at_location[index_code] != np.nan):\n",
    "                stat_code = code_at_location[index_code]\n",
    "                break\n",
    "        station_null[\"STATION CODE\"][index] = stat_code\n",
    "    dataset_categorical[dataset_categorical[\"STATION CODE\"].isnull()] = station_null\n",
    "    return\n",
    "\n",
    "fill_code(dataset_categorical_copy)\n",
    "dataset_categorical_copy[dataset_categorical_copy[\"LOCATIONS\"] == \"TAMBIRAPARANI AT ARUMUGANERI, TAMILNADU\"]"
   ]
  },
  {
   "cell_type": "code",
   "execution_count": 18,
   "id": "8ef4c93e",
   "metadata": {
    "colab": {
     "base_uri": "https://localhost:8080/",
     "height": 331
    },
    "id": "8ef4c93e",
    "outputId": "83712608-d2e9-4d1c-b926-723d7ccb354c"
   },
   "outputs": [
    {
     "data": {
      "text/html": [
       "<div>\n",
       "<style scoped>\n",
       "    .dataframe tbody tr th:only-of-type {\n",
       "        vertical-align: middle;\n",
       "    }\n",
       "\n",
       "    .dataframe tbody tr th {\n",
       "        vertical-align: top;\n",
       "    }\n",
       "\n",
       "    .dataframe thead th {\n",
       "        text-align: right;\n",
       "    }\n",
       "</style>\n",
       "<table border=\"1\" class=\"dataframe\">\n",
       "  <thead>\n",
       "    <tr style=\"text-align: right;\">\n",
       "      <th></th>\n",
       "      <th>STATION CODE</th>\n",
       "      <th>LOCATIONS</th>\n",
       "      <th>STATE</th>\n",
       "    </tr>\n",
       "  </thead>\n",
       "  <tbody>\n",
       "    <tr>\n",
       "      <th>166</th>\n",
       "      <td>1330</td>\n",
       "      <td>TAMBIRAPARANI AT ARUMUGANERI, TAMILNADU</td>\n",
       "      <td>TAMILNADU</td>\n",
       "    </tr>\n",
       "    <tr>\n",
       "      <th>424</th>\n",
       "      <td>1330</td>\n",
       "      <td>TAMBIRAPARANI AT ARUMUGANERI, TAMILNADU</td>\n",
       "      <td>TAMILNADU</td>\n",
       "    </tr>\n",
       "    <tr>\n",
       "      <th>677</th>\n",
       "      <td>1330</td>\n",
       "      <td>TAMBIRAPARANI AT ARUMUGANERI</td>\n",
       "      <td>TAMILNADU</td>\n",
       "    </tr>\n",
       "    <tr>\n",
       "      <th>1168</th>\n",
       "      <td>1330</td>\n",
       "      <td>TAMBIRAPARANI AT ARUMUGANERI</td>\n",
       "      <td>TAMILNADU</td>\n",
       "    </tr>\n",
       "    <tr>\n",
       "      <th>1351</th>\n",
       "      <td>1330</td>\n",
       "      <td>TAMBIRAPARANI AT ARUMUGANERI, TAMILNADU</td>\n",
       "      <td>TAMILNADU</td>\n",
       "    </tr>\n",
       "    <tr>\n",
       "      <th>1513</th>\n",
       "      <td>1330</td>\n",
       "      <td>TAMBIRAPARANI AT ARUMUGANERI, TAMILNADU</td>\n",
       "      <td>TAMILNADU</td>\n",
       "    </tr>\n",
       "    <tr>\n",
       "      <th>1626</th>\n",
       "      <td>1330</td>\n",
       "      <td>TAMBIRAPARANI AT ARUMUGANERI, TAMILNADU</td>\n",
       "      <td>TAMILNADU</td>\n",
       "    </tr>\n",
       "    <tr>\n",
       "      <th>1745</th>\n",
       "      <td>1330</td>\n",
       "      <td>TAMBIRAPARANI AT ARUMUGANERI, TAMILNADU</td>\n",
       "      <td>TAMILNADU</td>\n",
       "    </tr>\n",
       "    <tr>\n",
       "      <th>1896</th>\n",
       "      <td>1330</td>\n",
       "      <td>TAMBIRAPARANI AT ARUMUGANERI, TAMILNADU</td>\n",
       "      <td>TAMILNADU</td>\n",
       "    </tr>\n",
       "  </tbody>\n",
       "</table>\n",
       "</div>"
      ],
      "text/plain": [
       "     STATION CODE                                LOCATIONS      STATE\n",
       "166          1330  TAMBIRAPARANI AT ARUMUGANERI, TAMILNADU  TAMILNADU\n",
       "424          1330  TAMBIRAPARANI AT ARUMUGANERI, TAMILNADU  TAMILNADU\n",
       "677          1330             TAMBIRAPARANI AT ARUMUGANERI  TAMILNADU\n",
       "1168         1330             TAMBIRAPARANI AT ARUMUGANERI  TAMILNADU\n",
       "1351         1330  TAMBIRAPARANI AT ARUMUGANERI, TAMILNADU  TAMILNADU\n",
       "1513         1330  TAMBIRAPARANI AT ARUMUGANERI, TAMILNADU  TAMILNADU\n",
       "1626         1330  TAMBIRAPARANI AT ARUMUGANERI, TAMILNADU  TAMILNADU\n",
       "1745         1330  TAMBIRAPARANI AT ARUMUGANERI, TAMILNADU  TAMILNADU\n",
       "1896         1330  TAMBIRAPARANI AT ARUMUGANERI, TAMILNADU  TAMILNADU"
      ]
     },
     "execution_count": 18,
     "metadata": {},
     "output_type": "execute_result"
    }
   ],
   "source": [
    "def fill_state(dataset_categorical):\n",
    "    station_code = dataset_categorical[\"STATION CODE\"].unique()\n",
    "    for index in range(station_code.shape[0]):\n",
    "        if (station_code[index] != np.nan):\n",
    "            df_state = dataset_categorical[\"STATE\"][dataset_categorical[\"STATION CODE\"] == station_code[index]] \n",
    "            state_values = dataset_categorical[\"STATE\"][dataset_categorical[\"STATION CODE\"] == station_code[index]]\n",
    "            state = np.nan\n",
    "            for index_state in range(state_values.shape[0]):\n",
    "                if (state_values.iloc[index_state] != np.nan):\n",
    "                    state = state_values.iloc[index_state]\n",
    "                    break\n",
    "            df_state_fill = df_state.fillna(state) \n",
    "            dataset_categorical[\"STATE\"][dataset_categorical[\"STATION CODE\"] == station_code[index]] = df_state_fill\n",
    "    return\n",
    "fill_state(dataset_categorical_copy)\n",
    "dataset_categorical_copy[dataset_categorical_copy[\"STATION CODE\"] == \"1330\"]"
   ]
  },
  {
   "cell_type": "code",
   "execution_count": 19,
   "id": "b176727b",
   "metadata": {
    "colab": {
     "base_uri": "https://localhost:8080/"
    },
    "id": "b176727b",
    "outputId": "64c5a3de-9d1d-4a25-a5ff-84178fd0a687"
   },
   "outputs": [
    {
     "data": {
      "text/plain": [
       "STATION CODE     5\n",
       "LOCATIONS        3\n",
       "STATE           13\n",
       "dtype: int64"
      ]
     },
     "execution_count": 19,
     "metadata": {},
     "output_type": "execute_result"
    }
   ],
   "source": [
    "# check for missing values\n",
    "dataset_categorical_copy.isnull().sum()"
   ]
  },
  {
   "cell_type": "code",
   "execution_count": 20,
   "id": "d57211ec",
   "metadata": {
    "colab": {
     "base_uri": "https://localhost:8080/",
     "height": 457
    },
    "id": "d57211ec",
    "outputId": "5293ac1d-430d-4ae1-aad6-88f550fcadc1"
   },
   "outputs": [
    {
     "data": {
      "text/html": [
       "<div>\n",
       "<style scoped>\n",
       "    .dataframe tbody tr th:only-of-type {\n",
       "        vertical-align: middle;\n",
       "    }\n",
       "\n",
       "    .dataframe tbody tr th {\n",
       "        vertical-align: top;\n",
       "    }\n",
       "\n",
       "    .dataframe thead th {\n",
       "        text-align: right;\n",
       "    }\n",
       "</style>\n",
       "<table border=\"1\" class=\"dataframe\">\n",
       "  <thead>\n",
       "    <tr style=\"text-align: right;\">\n",
       "      <th></th>\n",
       "      <th>STATION CODE</th>\n",
       "      <th>LOCATIONS</th>\n",
       "      <th>STATE</th>\n",
       "    </tr>\n",
       "  </thead>\n",
       "  <tbody>\n",
       "    <tr>\n",
       "      <th>260</th>\n",
       "      <td>NaN</td>\n",
       "      <td>NaN</td>\n",
       "      <td>NaN</td>\n",
       "    </tr>\n",
       "    <tr>\n",
       "      <th>431</th>\n",
       "      <td>NaN</td>\n",
       "      <td>NaN</td>\n",
       "      <td>NaN</td>\n",
       "    </tr>\n",
       "    <tr>\n",
       "      <th>1106</th>\n",
       "      <td>1207</td>\n",
       "      <td>KABBANI AT MUTHANKARA</td>\n",
       "      <td>NaN</td>\n",
       "    </tr>\n",
       "    <tr>\n",
       "      <th>1107</th>\n",
       "      <td>1208</td>\n",
       "      <td>BHAVANI AT ELACHIVAZHY</td>\n",
       "      <td>NaN</td>\n",
       "    </tr>\n",
       "    <tr>\n",
       "      <th>1650</th>\n",
       "      <td>2047</td>\n",
       "      <td>NNANCHOE (ATTAWA CHOE), CHANDIGARH</td>\n",
       "      <td>NaN</td>\n",
       "    </tr>\n",
       "    <tr>\n",
       "      <th>1651</th>\n",
       "      <td>2048</td>\n",
       "      <td>PATIALA KI RAO, CHANDIGARH</td>\n",
       "      <td>NaN</td>\n",
       "    </tr>\n",
       "    <tr>\n",
       "      <th>1652</th>\n",
       "      <td>2049</td>\n",
       "      <td>SUKHNA CHOE, CHANDIGARH</td>\n",
       "      <td>NaN</td>\n",
       "    </tr>\n",
       "    <tr>\n",
       "      <th>1770</th>\n",
       "      <td>2047</td>\n",
       "      <td>NNANCHOE (ATTAWA CHOE)</td>\n",
       "      <td>NaN</td>\n",
       "    </tr>\n",
       "    <tr>\n",
       "      <th>1771</th>\n",
       "      <td>2048</td>\n",
       "      <td>PATIALA KI RAO</td>\n",
       "      <td>NaN</td>\n",
       "    </tr>\n",
       "    <tr>\n",
       "      <th>1772</th>\n",
       "      <td>2049</td>\n",
       "      <td>SUKHNA CHOE</td>\n",
       "      <td>NaN</td>\n",
       "    </tr>\n",
       "    <tr>\n",
       "      <th>1784</th>\n",
       "      <td>NaN</td>\n",
       "      <td>DAMANGANGA  AFTER CONFL. OF PIPARIA DRAIN, DAMAN</td>\n",
       "      <td>NaN</td>\n",
       "    </tr>\n",
       "    <tr>\n",
       "      <th>1785</th>\n",
       "      <td>NaN</td>\n",
       "      <td>DAMANGANGA AT CIRCUIT HOUSE, SILVASA, DADRA AN...</td>\n",
       "      <td>NaN</td>\n",
       "    </tr>\n",
       "    <tr>\n",
       "      <th>1912</th>\n",
       "      <td>NaN</td>\n",
       "      <td>NaN</td>\n",
       "      <td>NaN</td>\n",
       "    </tr>\n",
       "  </tbody>\n",
       "</table>\n",
       "</div>"
      ],
      "text/plain": [
       "     STATION CODE                                          LOCATIONS STATE\n",
       "260           NaN                                                NaN   NaN\n",
       "431           NaN                                                NaN   NaN\n",
       "1106         1207                              KABBANI AT MUTHANKARA   NaN\n",
       "1107         1208                             BHAVANI AT ELACHIVAZHY   NaN\n",
       "1650         2047                 NNANCHOE (ATTAWA CHOE), CHANDIGARH   NaN\n",
       "1651         2048                         PATIALA KI RAO, CHANDIGARH   NaN\n",
       "1652         2049                            SUKHNA CHOE, CHANDIGARH   NaN\n",
       "1770         2047                             NNANCHOE (ATTAWA CHOE)   NaN\n",
       "1771         2048                                     PATIALA KI RAO   NaN\n",
       "1772         2049                                        SUKHNA CHOE   NaN\n",
       "1784          NaN   DAMANGANGA  AFTER CONFL. OF PIPARIA DRAIN, DAMAN   NaN\n",
       "1785          NaN  DAMANGANGA AT CIRCUIT HOUSE, SILVASA, DADRA AN...   NaN\n",
       "1912          NaN                                                NaN   NaN"
      ]
     },
     "execution_count": 20,
     "metadata": {},
     "output_type": "execute_result"
    }
   ],
   "source": [
    "dataset_categorical_copy[dataset_categorical_copy[\"STATE\"].isnull()]"
   ]
  },
  {
   "cell_type": "code",
   "execution_count": 21,
   "id": "3c14dda9",
   "metadata": {
    "id": "3c14dda9"
   },
   "outputs": [],
   "source": [
    "dataset_categorical_copy[\"STATE\"][1106] = \"KERALA\"\n",
    "dataset_categorical_copy[\"STATE\"][1107] = \"KERALA\"\n",
    "dataset_categorical_copy[\"STATE\"][1650] = \"CHANDIGARH\"\n",
    "dataset_categorical_copy[\"STATE\"][1651] = \"CHANDIGARH\"\n",
    "dataset_categorical_copy[\"STATE\"][1652] = \"CHANDIGARH\"\n",
    "dataset_categorical_copy[\"STATE\"][1770] = \"CHANDIGARH\"\n",
    "dataset_categorical_copy[\"STATE\"][1771] = \"CHANDIGARH\"\n",
    "dataset_categorical_copy[\"STATE\"][1772] = \"CHANDIGARH\"\n",
    "dataset_categorical_copy[\"STATE\"][1784] = \"DAMAN & DIU\"\n",
    "dataset_categorical_copy[\"STATE\"][1785] = \"DAMAN & DIU\""
   ]
  },
  {
   "cell_type": "code",
   "execution_count": 22,
   "id": "3ad5d6bd",
   "metadata": {
    "colab": {
     "base_uri": "https://localhost:8080/"
    },
    "id": "3ad5d6bd",
    "outputId": "49108fef-257a-4f99-c97f-fb2c30a00790"
   },
   "outputs": [
    {
     "data": {
      "text/plain": [
       "STATION CODE    5\n",
       "LOCATIONS       3\n",
       "STATE           3\n",
       "dtype: int64"
      ]
     },
     "execution_count": 22,
     "metadata": {},
     "output_type": "execute_result"
    }
   ],
   "source": [
    "dataset_categorical_copy.isnull().sum()"
   ]
  },
  {
   "cell_type": "code",
   "execution_count": 23,
   "id": "78826002",
   "metadata": {
    "colab": {
     "base_uri": "https://localhost:8080/",
     "height": 143
    },
    "id": "78826002",
    "outputId": "6f332cbb-e519-47ce-ebc9-4ada4192991b"
   },
   "outputs": [
    {
     "data": {
      "text/html": [
       "<div>\n",
       "<style scoped>\n",
       "    .dataframe tbody tr th:only-of-type {\n",
       "        vertical-align: middle;\n",
       "    }\n",
       "\n",
       "    .dataframe tbody tr th {\n",
       "        vertical-align: top;\n",
       "    }\n",
       "\n",
       "    .dataframe thead th {\n",
       "        text-align: right;\n",
       "    }\n",
       "</style>\n",
       "<table border=\"1\" class=\"dataframe\">\n",
       "  <thead>\n",
       "    <tr style=\"text-align: right;\">\n",
       "      <th></th>\n",
       "      <th>STATION CODE</th>\n",
       "      <th>LOCATIONS</th>\n",
       "      <th>STATE</th>\n",
       "    </tr>\n",
       "  </thead>\n",
       "  <tbody>\n",
       "    <tr>\n",
       "      <th>260</th>\n",
       "      <td>NaN</td>\n",
       "      <td>NaN</td>\n",
       "      <td>NaN</td>\n",
       "    </tr>\n",
       "    <tr>\n",
       "      <th>431</th>\n",
       "      <td>NaN</td>\n",
       "      <td>NaN</td>\n",
       "      <td>NaN</td>\n",
       "    </tr>\n",
       "    <tr>\n",
       "      <th>1912</th>\n",
       "      <td>NaN</td>\n",
       "      <td>NaN</td>\n",
       "      <td>NaN</td>\n",
       "    </tr>\n",
       "  </tbody>\n",
       "</table>\n",
       "</div>"
      ],
      "text/plain": [
       "     STATION CODE LOCATIONS STATE\n",
       "260           NaN       NaN   NaN\n",
       "431           NaN       NaN   NaN\n",
       "1912          NaN       NaN   NaN"
      ]
     },
     "execution_count": 23,
     "metadata": {},
     "output_type": "execute_result"
    }
   ],
   "source": [
    "dataset_categorical_copy[dataset_categorical_copy[\"STATE\"].isnull()]"
   ]
  },
  {
   "cell_type": "code",
   "execution_count": 24,
   "id": "bf263cd4",
   "metadata": {
    "colab": {
     "base_uri": "https://localhost:8080/",
     "height": 143
    },
    "id": "bf263cd4",
    "outputId": "d3336aca-6a15-4f0e-fbe2-f8013801eb4c"
   },
   "outputs": [
    {
     "data": {
      "text/html": [
       "<div>\n",
       "<style scoped>\n",
       "    .dataframe tbody tr th:only-of-type {\n",
       "        vertical-align: middle;\n",
       "    }\n",
       "\n",
       "    .dataframe tbody tr th {\n",
       "        vertical-align: top;\n",
       "    }\n",
       "\n",
       "    .dataframe thead th {\n",
       "        text-align: right;\n",
       "    }\n",
       "</style>\n",
       "<table border=\"1\" class=\"dataframe\">\n",
       "  <thead>\n",
       "    <tr style=\"text-align: right;\">\n",
       "      <th></th>\n",
       "      <th>STATION CODE</th>\n",
       "      <th>LOCATIONS</th>\n",
       "      <th>STATE</th>\n",
       "    </tr>\n",
       "  </thead>\n",
       "  <tbody>\n",
       "    <tr>\n",
       "      <th>260</th>\n",
       "      <td>NaN</td>\n",
       "      <td>NaN</td>\n",
       "      <td>NaN</td>\n",
       "    </tr>\n",
       "    <tr>\n",
       "      <th>431</th>\n",
       "      <td>NaN</td>\n",
       "      <td>NaN</td>\n",
       "      <td>NaN</td>\n",
       "    </tr>\n",
       "    <tr>\n",
       "      <th>1912</th>\n",
       "      <td>NaN</td>\n",
       "      <td>NaN</td>\n",
       "      <td>NaN</td>\n",
       "    </tr>\n",
       "  </tbody>\n",
       "</table>\n",
       "</div>"
      ],
      "text/plain": [
       "     STATION CODE LOCATIONS STATE\n",
       "260           NaN       NaN   NaN\n",
       "431           NaN       NaN   NaN\n",
       "1912          NaN       NaN   NaN"
      ]
     },
     "execution_count": 24,
     "metadata": {},
     "output_type": "execute_result"
    }
   ],
   "source": [
    "dataset_null = dataset_categorical_copy[(dataset_categorical_copy[\"STATION CODE\"].isnull()) & (dataset_categorical_copy[\"LOCATIONS\"].isnull()) & (dataset_categorical_copy[\"STATE\"].isnull())]\n",
    "dataset_null_indices = dataset_null.index\n",
    "dataset_categorical_copy.drop(dataset_null_indices, axis=0, inplace=True)\n",
    "dataset_null"
   ]
  },
  {
   "cell_type": "code",
   "execution_count": 25,
   "id": "83357d99",
   "metadata": {
    "colab": {
     "base_uri": "https://localhost:8080/"
    },
    "id": "83357d99",
    "outputId": "dd38b9be-4590-483e-b08a-3861e05b1f41"
   },
   "outputs": [
    {
     "data": {
      "text/plain": [
       "STATION CODE    2\n",
       "LOCATIONS       0\n",
       "STATE           0\n",
       "dtype: int64"
      ]
     },
     "execution_count": 25,
     "metadata": {},
     "output_type": "execute_result"
    }
   ],
   "source": [
    "dataset_categorical_copy.isnull().sum()"
   ]
  },
  {
   "cell_type": "code",
   "execution_count": 26,
   "id": "02926054",
   "metadata": {
    "colab": {
     "base_uri": "https://localhost:8080/",
     "height": 112
    },
    "id": "02926054",
    "outputId": "c6d7863b-e69c-4596-ddbe-9082faaeffa2"
   },
   "outputs": [
    {
     "data": {
      "text/html": [
       "<div>\n",
       "<style scoped>\n",
       "    .dataframe tbody tr th:only-of-type {\n",
       "        vertical-align: middle;\n",
       "    }\n",
       "\n",
       "    .dataframe tbody tr th {\n",
       "        vertical-align: top;\n",
       "    }\n",
       "\n",
       "    .dataframe thead th {\n",
       "        text-align: right;\n",
       "    }\n",
       "</style>\n",
       "<table border=\"1\" class=\"dataframe\">\n",
       "  <thead>\n",
       "    <tr style=\"text-align: right;\">\n",
       "      <th></th>\n",
       "      <th>STATION CODE</th>\n",
       "      <th>LOCATIONS</th>\n",
       "      <th>STATE</th>\n",
       "    </tr>\n",
       "  </thead>\n",
       "  <tbody>\n",
       "    <tr>\n",
       "      <th>1784</th>\n",
       "      <td>NaN</td>\n",
       "      <td>DAMANGANGA  AFTER CONFL. OF PIPARIA DRAIN, DAMAN</td>\n",
       "      <td>DAMAN &amp; DIU</td>\n",
       "    </tr>\n",
       "    <tr>\n",
       "      <th>1785</th>\n",
       "      <td>NaN</td>\n",
       "      <td>DAMANGANGA AT CIRCUIT HOUSE, SILVASA, DADRA AN...</td>\n",
       "      <td>DAMAN &amp; DIU</td>\n",
       "    </tr>\n",
       "  </tbody>\n",
       "</table>\n",
       "</div>"
      ],
      "text/plain": [
       "     STATION CODE                                          LOCATIONS  \\\n",
       "1784          NaN   DAMANGANGA  AFTER CONFL. OF PIPARIA DRAIN, DAMAN   \n",
       "1785          NaN  DAMANGANGA AT CIRCUIT HOUSE, SILVASA, DADRA AN...   \n",
       "\n",
       "            STATE  \n",
       "1784  DAMAN & DIU  \n",
       "1785  DAMAN & DIU  "
      ]
     },
     "execution_count": 26,
     "metadata": {},
     "output_type": "execute_result"
    }
   ],
   "source": [
    "station_null=dataset_categorical_copy[(dataset_categorical_copy[\"STATION CODE\"].isnull())]\n",
    "station_null"
   ]
  },
  {
   "cell_type": "code",
   "execution_count": 27,
   "id": "25e9abaa",
   "metadata": {
    "id": "25e9abaa"
   },
   "outputs": [],
   "source": [
    "dataset_categorical_copy.drop(station_null.index, axis=0, inplace=True)"
   ]
  },
  {
   "cell_type": "code",
   "execution_count": 28,
   "id": "94011006",
   "metadata": {
    "colab": {
     "base_uri": "https://localhost:8080/"
    },
    "id": "94011006",
    "outputId": "058eed08-d927-48f3-dd1e-4dd093017704"
   },
   "outputs": [
    {
     "data": {
      "text/plain": [
       "STATION CODE    0\n",
       "LOCATIONS       0\n",
       "STATE           0\n",
       "dtype: int64"
      ]
     },
     "execution_count": 28,
     "metadata": {},
     "output_type": "execute_result"
    }
   ],
   "source": [
    "dataset_categorical_copy.isnull().sum()"
   ]
  },
  {
   "cell_type": "code",
   "execution_count": 29,
   "id": "ad13678f",
   "metadata": {
    "id": "ad13678f"
   },
   "outputs": [],
   "source": [
    "dataset_categorical=dataset_categorical_copy"
   ]
  },
  {
   "cell_type": "code",
   "execution_count": 30,
   "id": "3a19cf0f",
   "metadata": {
    "colab": {
     "base_uri": "https://localhost:8080/",
     "height": 423
    },
    "id": "3a19cf0f",
    "outputId": "54f21ae4-f866-495d-f624-95bc2fc6a8d6"
   },
   "outputs": [
    {
     "data": {
      "text/html": [
       "<div>\n",
       "<style scoped>\n",
       "    .dataframe tbody tr th:only-of-type {\n",
       "        vertical-align: middle;\n",
       "    }\n",
       "\n",
       "    .dataframe tbody tr th {\n",
       "        vertical-align: top;\n",
       "    }\n",
       "\n",
       "    .dataframe thead th {\n",
       "        text-align: right;\n",
       "    }\n",
       "</style>\n",
       "<table border=\"1\" class=\"dataframe\">\n",
       "  <thead>\n",
       "    <tr style=\"text-align: right;\">\n",
       "      <th></th>\n",
       "      <th>STATION CODE</th>\n",
       "      <th>LOCATIONS</th>\n",
       "      <th>STATE</th>\n",
       "    </tr>\n",
       "  </thead>\n",
       "  <tbody>\n",
       "    <tr>\n",
       "      <th>0</th>\n",
       "      <td>1393</td>\n",
       "      <td>DAMANGANGA AT D/S OF MADHUBAN, DAMAN</td>\n",
       "      <td>DAMAN &amp; DIU</td>\n",
       "    </tr>\n",
       "    <tr>\n",
       "      <th>1</th>\n",
       "      <td>1399</td>\n",
       "      <td>ZUARI AT D/S OF PT. WHERE KUMBARJRIA CANAL JOI...</td>\n",
       "      <td>GOA</td>\n",
       "    </tr>\n",
       "    <tr>\n",
       "      <th>2</th>\n",
       "      <td>1475</td>\n",
       "      <td>ZUARI AT PANCHAWADI</td>\n",
       "      <td>GOA</td>\n",
       "    </tr>\n",
       "    <tr>\n",
       "      <th>3</th>\n",
       "      <td>3181</td>\n",
       "      <td>RIVER ZUARI AT BORIM BRIDGE</td>\n",
       "      <td>GOA</td>\n",
       "    </tr>\n",
       "    <tr>\n",
       "      <th>4</th>\n",
       "      <td>3182</td>\n",
       "      <td>RIVER ZUARI AT MARCAIM JETTY</td>\n",
       "      <td>GOA</td>\n",
       "    </tr>\n",
       "    <tr>\n",
       "      <th>...</th>\n",
       "      <td>...</td>\n",
       "      <td>...</td>\n",
       "      <td>...</td>\n",
       "    </tr>\n",
       "    <tr>\n",
       "      <th>1896</th>\n",
       "      <td>1330</td>\n",
       "      <td>TAMBIRAPARANI AT ARUMUGANERI, TAMILNADU</td>\n",
       "      <td>TAMILNADU</td>\n",
       "    </tr>\n",
       "    <tr>\n",
       "      <th>1897</th>\n",
       "      <td>1450</td>\n",
       "      <td>PALAR AT VANIYAMBADI WATER SUPPLY HEAD WORK, T...</td>\n",
       "      <td>TAMILNADU</td>\n",
       "    </tr>\n",
       "    <tr>\n",
       "      <th>1898</th>\n",
       "      <td>1403</td>\n",
       "      <td>GUMTI AT U/S SOUTH TRIPURA,TRIPURA</td>\n",
       "      <td>TRIPURA</td>\n",
       "    </tr>\n",
       "    <tr>\n",
       "      <th>1899</th>\n",
       "      <td>1404</td>\n",
       "      <td>GUMTI AT D/S SOUTH TRIPURA, TRIPURA</td>\n",
       "      <td>TRIPURA</td>\n",
       "    </tr>\n",
       "    <tr>\n",
       "      <th>1900</th>\n",
       "      <td>1726</td>\n",
       "      <td>CHANDRAPUR, AGARTALA D/S OF HAORA RIVER, TRIPURA</td>\n",
       "      <td>TRIPURA</td>\n",
       "    </tr>\n",
       "  </tbody>\n",
       "</table>\n",
       "<p>1897 rows × 3 columns</p>\n",
       "</div>"
      ],
      "text/plain": [
       "     STATION CODE                                          LOCATIONS  \\\n",
       "0            1393               DAMANGANGA AT D/S OF MADHUBAN, DAMAN   \n",
       "1            1399  ZUARI AT D/S OF PT. WHERE KUMBARJRIA CANAL JOI...   \n",
       "2            1475                                ZUARI AT PANCHAWADI   \n",
       "3            3181                        RIVER ZUARI AT BORIM BRIDGE   \n",
       "4            3182                       RIVER ZUARI AT MARCAIM JETTY   \n",
       "...           ...                                                ...   \n",
       "1896         1330            TAMBIRAPARANI AT ARUMUGANERI, TAMILNADU   \n",
       "1897         1450  PALAR AT VANIYAMBADI WATER SUPPLY HEAD WORK, T...   \n",
       "1898         1403                 GUMTI AT U/S SOUTH TRIPURA,TRIPURA   \n",
       "1899         1404                GUMTI AT D/S SOUTH TRIPURA, TRIPURA   \n",
       "1900         1726   CHANDRAPUR, AGARTALA D/S OF HAORA RIVER, TRIPURA   \n",
       "\n",
       "            STATE  \n",
       "0     DAMAN & DIU  \n",
       "1             GOA  \n",
       "2             GOA  \n",
       "3             GOA  \n",
       "4             GOA  \n",
       "...           ...  \n",
       "1896    TAMILNADU  \n",
       "1897    TAMILNADU  \n",
       "1898      TRIPURA  \n",
       "1899      TRIPURA  \n",
       "1900      TRIPURA  \n",
       "\n",
       "[1897 rows x 3 columns]"
      ]
     },
     "execution_count": 30,
     "metadata": {},
     "output_type": "execute_result"
    }
   ],
   "source": [
    "dataset_categorical"
   ]
  },
  {
   "cell_type": "code",
   "execution_count": 31,
   "id": "804ec50c",
   "metadata": {
    "colab": {
     "base_uri": "https://localhost:8080/"
    },
    "id": "804ec50c",
    "outputId": "bafb4984-af43-4a63-bb9e-be61f8fef334"
   },
   "outputs": [
    {
     "data": {
      "text/plain": [
       "STATION CODE                        5\n",
       "LOCATIONS                           5\n",
       "STATE                               5\n",
       "Temp                                0\n",
       "D.O. (mg/l)                         0\n",
       "PH                                  0\n",
       "CONDUCTIVITY (µmhos/cm)             0\n",
       "B.O.D. (mg/l)                       0\n",
       "NITRATENAN N+ NITRITENANN (mg/l)    0\n",
       "FECAL COLIFORM (MPN/100ml)          0\n",
       "TOTAL COLIFORM (MPN/100ml)Mean      0\n",
       "year                                0\n",
       "dtype: int64"
      ]
     },
     "execution_count": 31,
     "metadata": {},
     "output_type": "execute_result"
    }
   ],
   "source": [
    "dataset_final=pd.concat([dataset_categorical, dataset_numeric], axis=1)\n",
    "dataset_final.isnull().sum()"
   ]
  },
  {
   "cell_type": "code",
   "execution_count": 32,
   "id": "489bbeed",
   "metadata": {
    "colab": {
     "base_uri": "https://localhost:8080/",
     "height": 285
    },
    "id": "489bbeed",
    "outputId": "bdfa2ea6-93f4-4066-f8d8-a5792a945db1"
   },
   "outputs": [
    {
     "data": {
      "text/html": [
       "<div>\n",
       "<style scoped>\n",
       "    .dataframe tbody tr th:only-of-type {\n",
       "        vertical-align: middle;\n",
       "    }\n",
       "\n",
       "    .dataframe tbody tr th {\n",
       "        vertical-align: top;\n",
       "    }\n",
       "\n",
       "    .dataframe thead th {\n",
       "        text-align: right;\n",
       "    }\n",
       "</style>\n",
       "<table border=\"1\" class=\"dataframe\">\n",
       "  <thead>\n",
       "    <tr style=\"text-align: right;\">\n",
       "      <th></th>\n",
       "      <th>STATION CODE</th>\n",
       "      <th>LOCATIONS</th>\n",
       "      <th>STATE</th>\n",
       "      <th>Temp</th>\n",
       "      <th>D.O. (mg/l)</th>\n",
       "      <th>PH</th>\n",
       "      <th>CONDUCTIVITY (µmhos/cm)</th>\n",
       "      <th>B.O.D. (mg/l)</th>\n",
       "      <th>NITRATENAN N+ NITRITENANN (mg/l)</th>\n",
       "      <th>FECAL COLIFORM (MPN/100ml)</th>\n",
       "      <th>TOTAL COLIFORM (MPN/100ml)Mean</th>\n",
       "      <th>year</th>\n",
       "    </tr>\n",
       "  </thead>\n",
       "  <tbody>\n",
       "    <tr>\n",
       "      <th>260</th>\n",
       "      <td>NaN</td>\n",
       "      <td>NaN</td>\n",
       "      <td>NaN</td>\n",
       "      <td>27.0</td>\n",
       "      <td>6.7</td>\n",
       "      <td>7.3</td>\n",
       "      <td>198.0</td>\n",
       "      <td>1.9</td>\n",
       "      <td>0.52</td>\n",
       "      <td>233.0</td>\n",
       "      <td>465.0</td>\n",
       "      <td>2013.0</td>\n",
       "    </tr>\n",
       "    <tr>\n",
       "      <th>431</th>\n",
       "      <td>NaN</td>\n",
       "      <td>NaN</td>\n",
       "      <td>NaN</td>\n",
       "      <td>27.0</td>\n",
       "      <td>6.7</td>\n",
       "      <td>7.3</td>\n",
       "      <td>198.0</td>\n",
       "      <td>1.9</td>\n",
       "      <td>0.52</td>\n",
       "      <td>233.0</td>\n",
       "      <td>465.0</td>\n",
       "      <td>2013.0</td>\n",
       "    </tr>\n",
       "    <tr>\n",
       "      <th>1784</th>\n",
       "      <td>NaN</td>\n",
       "      <td>NaN</td>\n",
       "      <td>NaN</td>\n",
       "      <td>27.0</td>\n",
       "      <td>6.7</td>\n",
       "      <td>7.3</td>\n",
       "      <td>198.0</td>\n",
       "      <td>1.0</td>\n",
       "      <td>1.01</td>\n",
       "      <td>1200.0</td>\n",
       "      <td>37000.0</td>\n",
       "      <td>2005.0</td>\n",
       "    </tr>\n",
       "    <tr>\n",
       "      <th>1785</th>\n",
       "      <td>NaN</td>\n",
       "      <td>NaN</td>\n",
       "      <td>NaN</td>\n",
       "      <td>27.0</td>\n",
       "      <td>6.7</td>\n",
       "      <td>7.3</td>\n",
       "      <td>198.0</td>\n",
       "      <td>112.0</td>\n",
       "      <td>5.50</td>\n",
       "      <td>1200000.0</td>\n",
       "      <td>6400000.0</td>\n",
       "      <td>2005.0</td>\n",
       "    </tr>\n",
       "    <tr>\n",
       "      <th>1901</th>\n",
       "      <td>NaN</td>\n",
       "      <td>NaN</td>\n",
       "      <td>NaN</td>\n",
       "      <td>27.0</td>\n",
       "      <td>6.7</td>\n",
       "      <td>7.3</td>\n",
       "      <td>198.0</td>\n",
       "      <td>1.9</td>\n",
       "      <td>0.52</td>\n",
       "      <td>233.0</td>\n",
       "      <td>465.0</td>\n",
       "      <td>2003.0</td>\n",
       "    </tr>\n",
       "  </tbody>\n",
       "</table>\n",
       "</div>"
      ],
      "text/plain": [
       "     STATION CODE LOCATIONS STATE  Temp  D.O. (mg/l)   PH  \\\n",
       "260           NaN       NaN   NaN  27.0          6.7  7.3   \n",
       "431           NaN       NaN   NaN  27.0          6.7  7.3   \n",
       "1784          NaN       NaN   NaN  27.0          6.7  7.3   \n",
       "1785          NaN       NaN   NaN  27.0          6.7  7.3   \n",
       "1901          NaN       NaN   NaN  27.0          6.7  7.3   \n",
       "\n",
       "      CONDUCTIVITY (µmhos/cm)  B.O.D. (mg/l)  \\\n",
       "260                     198.0            1.9   \n",
       "431                     198.0            1.9   \n",
       "1784                    198.0            1.0   \n",
       "1785                    198.0          112.0   \n",
       "1901                    198.0            1.9   \n",
       "\n",
       "      NITRATENAN N+ NITRITENANN (mg/l)  FECAL COLIFORM (MPN/100ml)  \\\n",
       "260                               0.52                       233.0   \n",
       "431                               0.52                       233.0   \n",
       "1784                              1.01                      1200.0   \n",
       "1785                              5.50                   1200000.0   \n",
       "1901                              0.52                       233.0   \n",
       "\n",
       "      TOTAL COLIFORM (MPN/100ml)Mean    year  \n",
       "260                            465.0  2013.0  \n",
       "431                            465.0  2013.0  \n",
       "1784                         37000.0  2005.0  \n",
       "1785                       6400000.0  2005.0  \n",
       "1901                           465.0  2003.0  "
      ]
     },
     "execution_count": 32,
     "metadata": {},
     "output_type": "execute_result"
    }
   ],
   "source": [
    "dataset_final[(dataset_final[\"STATION CODE\"].isnull()) & (dataset_final[\"LOCATIONS\"].isnull()) & (dataset_final[\"STATE\"].isnull())]"
   ]
  },
  {
   "cell_type": "code",
   "execution_count": 33,
   "id": "a83c03ac",
   "metadata": {
    "colab": {
     "base_uri": "https://localhost:8080/",
     "height": 285
    },
    "id": "a83c03ac",
    "outputId": "be0bee7c-6181-4f6f-a033-6c722ab2308d"
   },
   "outputs": [
    {
     "data": {
      "text/html": [
       "<div>\n",
       "<style scoped>\n",
       "    .dataframe tbody tr th:only-of-type {\n",
       "        vertical-align: middle;\n",
       "    }\n",
       "\n",
       "    .dataframe tbody tr th {\n",
       "        vertical-align: top;\n",
       "    }\n",
       "\n",
       "    .dataframe thead th {\n",
       "        text-align: right;\n",
       "    }\n",
       "</style>\n",
       "<table border=\"1\" class=\"dataframe\">\n",
       "  <thead>\n",
       "    <tr style=\"text-align: right;\">\n",
       "      <th></th>\n",
       "      <th>STATION CODE</th>\n",
       "      <th>LOCATIONS</th>\n",
       "      <th>STATE</th>\n",
       "      <th>Temp</th>\n",
       "      <th>D.O. (mg/l)</th>\n",
       "      <th>PH</th>\n",
       "      <th>CONDUCTIVITY (µmhos/cm)</th>\n",
       "      <th>B.O.D. (mg/l)</th>\n",
       "      <th>NITRATENAN N+ NITRITENANN (mg/l)</th>\n",
       "      <th>FECAL COLIFORM (MPN/100ml)</th>\n",
       "      <th>TOTAL COLIFORM (MPN/100ml)Mean</th>\n",
       "      <th>year</th>\n",
       "    </tr>\n",
       "  </thead>\n",
       "  <tbody>\n",
       "    <tr>\n",
       "      <th>260</th>\n",
       "      <td>NaN</td>\n",
       "      <td>NaN</td>\n",
       "      <td>NaN</td>\n",
       "      <td>27.0</td>\n",
       "      <td>6.7</td>\n",
       "      <td>7.3</td>\n",
       "      <td>198.0</td>\n",
       "      <td>1.9</td>\n",
       "      <td>0.52</td>\n",
       "      <td>233.0</td>\n",
       "      <td>465.0</td>\n",
       "      <td>2013.0</td>\n",
       "    </tr>\n",
       "    <tr>\n",
       "      <th>431</th>\n",
       "      <td>NaN</td>\n",
       "      <td>NaN</td>\n",
       "      <td>NaN</td>\n",
       "      <td>27.0</td>\n",
       "      <td>6.7</td>\n",
       "      <td>7.3</td>\n",
       "      <td>198.0</td>\n",
       "      <td>1.9</td>\n",
       "      <td>0.52</td>\n",
       "      <td>233.0</td>\n",
       "      <td>465.0</td>\n",
       "      <td>2013.0</td>\n",
       "    </tr>\n",
       "    <tr>\n",
       "      <th>1784</th>\n",
       "      <td>NaN</td>\n",
       "      <td>NaN</td>\n",
       "      <td>NaN</td>\n",
       "      <td>27.0</td>\n",
       "      <td>6.7</td>\n",
       "      <td>7.3</td>\n",
       "      <td>198.0</td>\n",
       "      <td>1.0</td>\n",
       "      <td>1.01</td>\n",
       "      <td>1200.0</td>\n",
       "      <td>37000.0</td>\n",
       "      <td>2005.0</td>\n",
       "    </tr>\n",
       "    <tr>\n",
       "      <th>1785</th>\n",
       "      <td>NaN</td>\n",
       "      <td>NaN</td>\n",
       "      <td>NaN</td>\n",
       "      <td>27.0</td>\n",
       "      <td>6.7</td>\n",
       "      <td>7.3</td>\n",
       "      <td>198.0</td>\n",
       "      <td>112.0</td>\n",
       "      <td>5.50</td>\n",
       "      <td>1200000.0</td>\n",
       "      <td>6400000.0</td>\n",
       "      <td>2005.0</td>\n",
       "    </tr>\n",
       "    <tr>\n",
       "      <th>1901</th>\n",
       "      <td>NaN</td>\n",
       "      <td>NaN</td>\n",
       "      <td>NaN</td>\n",
       "      <td>27.0</td>\n",
       "      <td>6.7</td>\n",
       "      <td>7.3</td>\n",
       "      <td>198.0</td>\n",
       "      <td>1.9</td>\n",
       "      <td>0.52</td>\n",
       "      <td>233.0</td>\n",
       "      <td>465.0</td>\n",
       "      <td>2003.0</td>\n",
       "    </tr>\n",
       "  </tbody>\n",
       "</table>\n",
       "</div>"
      ],
      "text/plain": [
       "     STATION CODE LOCATIONS STATE  Temp  D.O. (mg/l)   PH  \\\n",
       "260           NaN       NaN   NaN  27.0          6.7  7.3   \n",
       "431           NaN       NaN   NaN  27.0          6.7  7.3   \n",
       "1784          NaN       NaN   NaN  27.0          6.7  7.3   \n",
       "1785          NaN       NaN   NaN  27.0          6.7  7.3   \n",
       "1901          NaN       NaN   NaN  27.0          6.7  7.3   \n",
       "\n",
       "      CONDUCTIVITY (µmhos/cm)  B.O.D. (mg/l)  \\\n",
       "260                     198.0            1.9   \n",
       "431                     198.0            1.9   \n",
       "1784                    198.0            1.0   \n",
       "1785                    198.0          112.0   \n",
       "1901                    198.0            1.9   \n",
       "\n",
       "      NITRATENAN N+ NITRITENANN (mg/l)  FECAL COLIFORM (MPN/100ml)  \\\n",
       "260                               0.52                       233.0   \n",
       "431                               0.52                       233.0   \n",
       "1784                              1.01                      1200.0   \n",
       "1785                              5.50                   1200000.0   \n",
       "1901                              0.52                       233.0   \n",
       "\n",
       "      TOTAL COLIFORM (MPN/100ml)Mean    year  \n",
       "260                            465.0  2013.0  \n",
       "431                            465.0  2013.0  \n",
       "1784                         37000.0  2005.0  \n",
       "1785                       6400000.0  2005.0  \n",
       "1901                           465.0  2003.0  "
      ]
     },
     "execution_count": 33,
     "metadata": {},
     "output_type": "execute_result"
    }
   ],
   "source": [
    "dataset_null = dataset_final[(dataset_final[\"STATION CODE\"].isnull()) & (dataset_final[\"LOCATIONS\"].isnull()) & (dataset_final[\"STATE\"].isnull())]\n",
    "dataset_null_indices = dataset_null.index\n",
    "dataset_final.drop(dataset_null_indices, axis=0, inplace=True)\n",
    "dataset_null"
   ]
  },
  {
   "cell_type": "code",
   "execution_count": 34,
   "id": "dfdcec84",
   "metadata": {
    "colab": {
     "base_uri": "https://localhost:8080/"
    },
    "id": "dfdcec84",
    "outputId": "ebe081eb-a126-4f50-d94d-bb629e342d25"
   },
   "outputs": [
    {
     "data": {
      "text/plain": [
       "STATION CODE                        0\n",
       "LOCATIONS                           0\n",
       "STATE                               0\n",
       "Temp                                0\n",
       "D.O. (mg/l)                         0\n",
       "PH                                  0\n",
       "CONDUCTIVITY (µmhos/cm)             0\n",
       "B.O.D. (mg/l)                       0\n",
       "NITRATENAN N+ NITRITENANN (mg/l)    0\n",
       "FECAL COLIFORM (MPN/100ml)          0\n",
       "TOTAL COLIFORM (MPN/100ml)Mean      0\n",
       "year                                0\n",
       "dtype: int64"
      ]
     },
     "execution_count": 34,
     "metadata": {},
     "output_type": "execute_result"
    }
   ],
   "source": [
    "dataset_final.isnull().sum()"
   ]
  },
  {
   "cell_type": "code",
   "execution_count": 35,
   "id": "f113e84f",
   "metadata": {
    "colab": {
     "base_uri": "https://localhost:8080/"
    },
    "id": "f113e84f",
    "outputId": "6f773e35-c7d5-490c-983b-ad8e4f49accf"
   },
   "outputs": [
    {
     "data": {
      "text/plain": [
       "(1897, 12)"
      ]
     },
     "execution_count": 35,
     "metadata": {},
     "output_type": "execute_result"
    }
   ],
   "source": [
    "dataset_final.shape"
   ]
  },
  {
   "cell_type": "code",
   "execution_count": 36,
   "id": "0aa2282e",
   "metadata": {
    "colab": {
     "base_uri": "https://localhost:8080/",
     "height": 728
    },
    "id": "0aa2282e",
    "outputId": "2584cee8-346e-47c8-a51c-8b1f150528c1"
   },
   "outputs": [
    {
     "data": {
      "text/html": [
       "<div>\n",
       "<style scoped>\n",
       "    .dataframe tbody tr th:only-of-type {\n",
       "        vertical-align: middle;\n",
       "    }\n",
       "\n",
       "    .dataframe tbody tr th {\n",
       "        vertical-align: top;\n",
       "    }\n",
       "\n",
       "    .dataframe thead th {\n",
       "        text-align: right;\n",
       "    }\n",
       "</style>\n",
       "<table border=\"1\" class=\"dataframe\">\n",
       "  <thead>\n",
       "    <tr style=\"text-align: right;\">\n",
       "      <th></th>\n",
       "      <th>STATION CODE</th>\n",
       "      <th>LOCATIONS</th>\n",
       "      <th>STATE</th>\n",
       "      <th>Temp</th>\n",
       "      <th>D.O. (mg/l)</th>\n",
       "      <th>PH</th>\n",
       "      <th>CONDUCTIVITY (µmhos/cm)</th>\n",
       "      <th>B.O.D. (mg/l)</th>\n",
       "      <th>NITRATENAN N+ NITRITENANN (mg/l)</th>\n",
       "      <th>FECAL COLIFORM (MPN/100ml)</th>\n",
       "      <th>TOTAL COLIFORM (MPN/100ml)Mean</th>\n",
       "    </tr>\n",
       "  </thead>\n",
       "  <tbody>\n",
       "    <tr>\n",
       "      <th>0</th>\n",
       "      <td>1393</td>\n",
       "      <td>DAMANGANGA AT D/S OF MADHUBAN, DAMAN</td>\n",
       "      <td>DAMAN &amp; DIU</td>\n",
       "      <td>30.6</td>\n",
       "      <td>6.7</td>\n",
       "      <td>7.50</td>\n",
       "      <td>203.0</td>\n",
       "      <td>1.900</td>\n",
       "      <td>0.100</td>\n",
       "      <td>11.0</td>\n",
       "      <td>27.0</td>\n",
       "    </tr>\n",
       "    <tr>\n",
       "      <th>1</th>\n",
       "      <td>1399</td>\n",
       "      <td>ZUARI AT D/S OF PT. WHERE KUMBARJRIA CANAL JOI...</td>\n",
       "      <td>GOA</td>\n",
       "      <td>29.8</td>\n",
       "      <td>5.7</td>\n",
       "      <td>7.20</td>\n",
       "      <td>189.0</td>\n",
       "      <td>2.000</td>\n",
       "      <td>0.200</td>\n",
       "      <td>4953.0</td>\n",
       "      <td>8391.0</td>\n",
       "    </tr>\n",
       "    <tr>\n",
       "      <th>2</th>\n",
       "      <td>1475</td>\n",
       "      <td>ZUARI AT PANCHAWADI</td>\n",
       "      <td>GOA</td>\n",
       "      <td>29.5</td>\n",
       "      <td>6.3</td>\n",
       "      <td>6.90</td>\n",
       "      <td>179.0</td>\n",
       "      <td>1.700</td>\n",
       "      <td>0.100</td>\n",
       "      <td>3243.0</td>\n",
       "      <td>5330.0</td>\n",
       "    </tr>\n",
       "    <tr>\n",
       "      <th>3</th>\n",
       "      <td>3181</td>\n",
       "      <td>RIVER ZUARI AT BORIM BRIDGE</td>\n",
       "      <td>GOA</td>\n",
       "      <td>29.7</td>\n",
       "      <td>5.8</td>\n",
       "      <td>6.90</td>\n",
       "      <td>64.0</td>\n",
       "      <td>3.800</td>\n",
       "      <td>0.500</td>\n",
       "      <td>5382.0</td>\n",
       "      <td>8443.0</td>\n",
       "    </tr>\n",
       "    <tr>\n",
       "      <th>4</th>\n",
       "      <td>3182</td>\n",
       "      <td>RIVER ZUARI AT MARCAIM JETTY</td>\n",
       "      <td>GOA</td>\n",
       "      <td>29.5</td>\n",
       "      <td>5.8</td>\n",
       "      <td>7.30</td>\n",
       "      <td>83.0</td>\n",
       "      <td>1.900</td>\n",
       "      <td>0.400</td>\n",
       "      <td>3428.0</td>\n",
       "      <td>5500.0</td>\n",
       "    </tr>\n",
       "    <tr>\n",
       "      <th>...</th>\n",
       "      <td>...</td>\n",
       "      <td>...</td>\n",
       "      <td>...</td>\n",
       "      <td>...</td>\n",
       "      <td>...</td>\n",
       "      <td>...</td>\n",
       "      <td>...</td>\n",
       "      <td>...</td>\n",
       "      <td>...</td>\n",
       "      <td>...</td>\n",
       "      <td>...</td>\n",
       "    </tr>\n",
       "    <tr>\n",
       "      <th>1896</th>\n",
       "      <td>1330</td>\n",
       "      <td>TAMBIRAPARANI AT ARUMUGANERI, TAMILNADU</td>\n",
       "      <td>TAMILNADU</td>\n",
       "      <td>27.0</td>\n",
       "      <td>6.6</td>\n",
       "      <td>7.81</td>\n",
       "      <td>603.2</td>\n",
       "      <td>2.675</td>\n",
       "      <td>0.263</td>\n",
       "      <td>40.0</td>\n",
       "      <td>191.0</td>\n",
       "    </tr>\n",
       "    <tr>\n",
       "      <th>1897</th>\n",
       "      <td>1450</td>\n",
       "      <td>PALAR AT VANIYAMBADI WATER SUPPLY HEAD WORK, T...</td>\n",
       "      <td>TAMILNADU</td>\n",
       "      <td>28.0</td>\n",
       "      <td>6.6</td>\n",
       "      <td>7.49</td>\n",
       "      <td>571.5</td>\n",
       "      <td>2.091</td>\n",
       "      <td>0.256</td>\n",
       "      <td>151.0</td>\n",
       "      <td>273.0</td>\n",
       "    </tr>\n",
       "    <tr>\n",
       "      <th>1898</th>\n",
       "      <td>1403</td>\n",
       "      <td>GUMTI AT U/S SOUTH TRIPURA,TRIPURA</td>\n",
       "      <td>TRIPURA</td>\n",
       "      <td>28.0</td>\n",
       "      <td>5.4</td>\n",
       "      <td>7.16</td>\n",
       "      <td>75.8</td>\n",
       "      <td>2.092</td>\n",
       "      <td>0.520</td>\n",
       "      <td>404.0</td>\n",
       "      <td>513.0</td>\n",
       "    </tr>\n",
       "    <tr>\n",
       "      <th>1899</th>\n",
       "      <td>1404</td>\n",
       "      <td>GUMTI AT D/S SOUTH TRIPURA, TRIPURA</td>\n",
       "      <td>TRIPURA</td>\n",
       "      <td>30.0</td>\n",
       "      <td>5.4</td>\n",
       "      <td>7.37</td>\n",
       "      <td>104.8</td>\n",
       "      <td>1.802</td>\n",
       "      <td>0.215</td>\n",
       "      <td>456.0</td>\n",
       "      <td>557.0</td>\n",
       "    </tr>\n",
       "    <tr>\n",
       "      <th>1900</th>\n",
       "      <td>1726</td>\n",
       "      <td>CHANDRAPUR, AGARTALA D/S OF HAORA RIVER, TRIPURA</td>\n",
       "      <td>TRIPURA</td>\n",
       "      <td>29.0</td>\n",
       "      <td>5.3</td>\n",
       "      <td>7.37</td>\n",
       "      <td>102.2</td>\n",
       "      <td>2.552</td>\n",
       "      <td>0.202</td>\n",
       "      <td>526.0</td>\n",
       "      <td>583.0</td>\n",
       "    </tr>\n",
       "  </tbody>\n",
       "</table>\n",
       "<p>1897 rows × 11 columns</p>\n",
       "</div>"
      ],
      "text/plain": [
       "     STATION CODE                                          LOCATIONS  \\\n",
       "0            1393               DAMANGANGA AT D/S OF MADHUBAN, DAMAN   \n",
       "1            1399  ZUARI AT D/S OF PT. WHERE KUMBARJRIA CANAL JOI...   \n",
       "2            1475                                ZUARI AT PANCHAWADI   \n",
       "3            3181                        RIVER ZUARI AT BORIM BRIDGE   \n",
       "4            3182                       RIVER ZUARI AT MARCAIM JETTY   \n",
       "...           ...                                                ...   \n",
       "1896         1330            TAMBIRAPARANI AT ARUMUGANERI, TAMILNADU   \n",
       "1897         1450  PALAR AT VANIYAMBADI WATER SUPPLY HEAD WORK, T...   \n",
       "1898         1403                 GUMTI AT U/S SOUTH TRIPURA,TRIPURA   \n",
       "1899         1404                GUMTI AT D/S SOUTH TRIPURA, TRIPURA   \n",
       "1900         1726   CHANDRAPUR, AGARTALA D/S OF HAORA RIVER, TRIPURA   \n",
       "\n",
       "            STATE  Temp  D.O. (mg/l)    PH  CONDUCTIVITY (µmhos/cm)  \\\n",
       "0     DAMAN & DIU  30.6          6.7  7.50                    203.0   \n",
       "1             GOA  29.8          5.7  7.20                    189.0   \n",
       "2             GOA  29.5          6.3  6.90                    179.0   \n",
       "3             GOA  29.7          5.8  6.90                     64.0   \n",
       "4             GOA  29.5          5.8  7.30                     83.0   \n",
       "...           ...   ...          ...   ...                      ...   \n",
       "1896    TAMILNADU  27.0          6.6  7.81                    603.2   \n",
       "1897    TAMILNADU  28.0          6.6  7.49                    571.5   \n",
       "1898      TRIPURA  28.0          5.4  7.16                     75.8   \n",
       "1899      TRIPURA  30.0          5.4  7.37                    104.8   \n",
       "1900      TRIPURA  29.0          5.3  7.37                    102.2   \n",
       "\n",
       "      B.O.D. (mg/l)  NITRATENAN N+ NITRITENANN (mg/l)  \\\n",
       "0             1.900                             0.100   \n",
       "1             2.000                             0.200   \n",
       "2             1.700                             0.100   \n",
       "3             3.800                             0.500   \n",
       "4             1.900                             0.400   \n",
       "...             ...                               ...   \n",
       "1896          2.675                             0.263   \n",
       "1897          2.091                             0.256   \n",
       "1898          2.092                             0.520   \n",
       "1899          1.802                             0.215   \n",
       "1900          2.552                             0.202   \n",
       "\n",
       "      FECAL COLIFORM (MPN/100ml)  TOTAL COLIFORM (MPN/100ml)Mean  \n",
       "0                           11.0                            27.0  \n",
       "1                         4953.0                          8391.0  \n",
       "2                         3243.0                          5330.0  \n",
       "3                         5382.0                          8443.0  \n",
       "4                         3428.0                          5500.0  \n",
       "...                          ...                             ...  \n",
       "1896                        40.0                           191.0  \n",
       "1897                       151.0                           273.0  \n",
       "1898                       404.0                           513.0  \n",
       "1899                       456.0                           557.0  \n",
       "1900                       526.0                           583.0  \n",
       "\n",
       "[1897 rows x 11 columns]"
      ]
     },
     "execution_count": 36,
     "metadata": {},
     "output_type": "execute_result"
    }
   ],
   "source": [
    "dataset_final = dataset_final.drop('year', axis = 1)\n",
    "dataset_final"
   ]
  },
  {
   "cell_type": "code",
   "execution_count": 37,
   "id": "MIpQ5Xa5j5Ap",
   "metadata": {
    "id": "MIpQ5Xa5j5Ap"
   },
   "outputs": [],
   "source": [
    "dataset_final = dataset_final.drop(['STATION CODE', 'LOCATIONS','STATE'], axis = 1)"
   ]
  },
  {
   "cell_type": "code",
   "execution_count": 38,
   "id": "j7qQxNVKYz6G",
   "metadata": {
    "colab": {
     "base_uri": "https://localhost:8080/"
    },
    "id": "j7qQxNVKYz6G",
    "outputId": "5a5a12a1-80e2-48ea-ef65-0af91176674a"
   },
   "outputs": [
    {
     "name": "stdout",
     "output_type": "stream",
     "text": [
      "<class 'pandas.core.frame.DataFrame'>\n",
      "Int64Index: 1897 entries, 0 to 1900\n",
      "Data columns (total 8 columns):\n",
      " #   Column                            Non-Null Count  Dtype  \n",
      "---  ------                            --------------  -----  \n",
      " 0   Temp                              1897 non-null   float64\n",
      " 1   D.O. (mg/l)                       1897 non-null   float64\n",
      " 2   PH                                1897 non-null   float64\n",
      " 3   CONDUCTIVITY (µmhos/cm)           1897 non-null   float64\n",
      " 4   B.O.D. (mg/l)                     1897 non-null   float64\n",
      " 5   NITRATENAN N+ NITRITENANN (mg/l)  1897 non-null   float64\n",
      " 6   FECAL COLIFORM (MPN/100ml)        1897 non-null   float64\n",
      " 7   TOTAL COLIFORM (MPN/100ml)Mean    1897 non-null   float64\n",
      "dtypes: float64(8)\n",
      "memory usage: 133.4 KB\n"
     ]
    }
   ],
   "source": [
    "dataset_final.info()"
   ]
  },
  {
   "cell_type": "code",
   "execution_count": 39,
   "id": "rhd9nV_8mSpO",
   "metadata": {
    "colab": {
     "base_uri": "https://localhost:8080/",
     "height": 1000
    },
    "id": "rhd9nV_8mSpO",
    "outputId": "71d84385-0798-4fb8-f6f1-87b084c8b491"
   },
   "outputs": [
    {
     "data": {
      "image/png": "[encoded data removed]",
      "text/plain": [
       "<Figure size 504x360 with 1 Axes>"
      ]
     },
     "metadata": {
      "needs_background": "light"
     },
     "output_type": "display_data"
    },
    {
     "data": {
      "image/png": "[encoded data removed]",
      "text/plain": [
       "<Figure size 504x360 with 1 Axes>"
      ]
     },
     "metadata": {
      "needs_background": "light"
     },
     "output_type": "display_data"
    },
    {
     "data": {
      "image/png": "[encoded data removed]",
      "text/plain": [
       "<Figure size 504x360 with 1 Axes>"
      ]
     },
     "metadata": {
      "needs_background": "light"
     },
     "output_type": "display_data"
    },
    {
     "data": {
      "image/png": "[encoded data removed]",
      "text/plain": [
       "<Figure size 504x360 with 1 Axes>"
      ]
     },
     "metadata": {
      "needs_background": "light"
     },
     "output_type": "display_data"
    },
    {
     "data": {
      "image/png": "[encoded data removed]",
      "text/plain": [
       "<Figure size 504x360 with 1 Axes>"
      ]
     },
     "metadata": {
      "needs_background": "light"
     },
     "output_type": "display_data"
    },
    {
     "data": {
      "image/png": "[encoded data removed]",
      "text/plain": [
       "<Figure size 504x360 with 1 Axes>"
      ]
     },
     "metadata": {
      "needs_background": "light"
     },
     "output_type": "display_data"
    },
    {
     "data": {
      "image/png": "[encoded data removed]",
      "text/plain": [
       "<Figure size 504x360 with 1 Axes>"
      ]
     },
     "metadata": {
      "needs_background": "light"
     },
     "output_type": "display_data"
    },
    {
     "data": {
      "image/png": "[encoded data removed]",
      "text/plain": [
       "<Figure size 504x360 with 1 Axes>"
      ]
     },
     "metadata": {
      "needs_background": "light"
     },
     "output_type": "display_data"
    }
   ],
   "source": [
    "\n",
    "def plot_kde(df):\n",
    "    n_col = df.shape[1]\n",
    "    for index in range(n_col):\n",
    "        col_index = df.iloc[:, index]\n",
    "        fig, ax = plt.subplots(1,1, figsize=(7, 5))\n",
    "        sns.kdeplot(data=df, x=col_index.name)\n",
    "        \n",
    "plot_kde(dataset_final)"
   ]
  },
  {
   "cell_type": "code",
   "execution_count": 40,
   "id": "E4Z78r8TmmNt",
   "metadata": {
    "colab": {
     "base_uri": "https://localhost:8080/",
     "height": 502
    },
    "id": "E4Z78r8TmmNt",
    "outputId": "00fa7b83-de12-4910-db4e-6164a53b6abe"
   },
   "outputs": [
    {
     "name": "stdout",
     "output_type": "stream",
     "text": [
      "Number of outliers using Z-Score method- 124\n"
     ]
    },
    {
     "data": {
      "text/html": [
       "<div>\n",
       "<style scoped>\n",
       "    .dataframe tbody tr th:only-of-type {\n",
       "        vertical-align: middle;\n",
       "    }\n",
       "\n",
       "    .dataframe tbody tr th {\n",
       "        vertical-align: top;\n",
       "    }\n",
       "\n",
       "    .dataframe thead th {\n",
       "        text-align: right;\n",
       "    }\n",
       "</style>\n",
       "<table border=\"1\" class=\"dataframe\">\n",
       "  <thead>\n",
       "    <tr style=\"text-align: right;\">\n",
       "      <th></th>\n",
       "      <th>Temp</th>\n",
       "      <th>D.O. (mg/l)</th>\n",
       "      <th>PH</th>\n",
       "      <th>CONDUCTIVITY (µmhos/cm)</th>\n",
       "      <th>B.O.D. (mg/l)</th>\n",
       "      <th>NITRATENAN N+ NITRITENANN (mg/l)</th>\n",
       "      <th>FECAL COLIFORM (MPN/100ml)</th>\n",
       "      <th>TOTAL COLIFORM (MPN/100ml)Mean</th>\n",
       "    </tr>\n",
       "  </thead>\n",
       "  <tbody>\n",
       "    <tr>\n",
       "      <th>741</th>\n",
       "      <td>28.0</td>\n",
       "      <td>8.2</td>\n",
       "      <td>7.6</td>\n",
       "      <td>112.0</td>\n",
       "      <td>2.1</td>\n",
       "      <td>0.52</td>\n",
       "      <td>233.0</td>\n",
       "      <td>31.0</td>\n",
       "    </tr>\n",
       "    <tr>\n",
       "      <th>745</th>\n",
       "      <td>30.0</td>\n",
       "      <td>9.3</td>\n",
       "      <td>7.6</td>\n",
       "      <td>193.0</td>\n",
       "      <td>2.3</td>\n",
       "      <td>0.52</td>\n",
       "      <td>233.0</td>\n",
       "      <td>41.0</td>\n",
       "    </tr>\n",
       "    <tr>\n",
       "      <th>37</th>\n",
       "      <td>25.3</td>\n",
       "      <td>5.3</td>\n",
       "      <td>7.7</td>\n",
       "      <td>24062.0</td>\n",
       "      <td>9.9</td>\n",
       "      <td>1.20</td>\n",
       "      <td>156.0</td>\n",
       "      <td>304.0</td>\n",
       "    </tr>\n",
       "    <tr>\n",
       "      <th>88</th>\n",
       "      <td>26.3</td>\n",
       "      <td>3.7</td>\n",
       "      <td>7.7</td>\n",
       "      <td>32005.0</td>\n",
       "      <td>1.2</td>\n",
       "      <td>0.90</td>\n",
       "      <td>40000.0</td>\n",
       "      <td>60392.0</td>\n",
       "    </tr>\n",
       "    <tr>\n",
       "      <th>108</th>\n",
       "      <td>30.0</td>\n",
       "      <td>5.6</td>\n",
       "      <td>7.2</td>\n",
       "      <td>24360.0</td>\n",
       "      <td>2.1</td>\n",
       "      <td>0.30</td>\n",
       "      <td>92.0</td>\n",
       "      <td>447.0</td>\n",
       "    </tr>\n",
       "    <tr>\n",
       "      <th>...</th>\n",
       "      <td>...</td>\n",
       "      <td>...</td>\n",
       "      <td>...</td>\n",
       "      <td>...</td>\n",
       "      <td>...</td>\n",
       "      <td>...</td>\n",
       "      <td>...</td>\n",
       "      <td>...</td>\n",
       "    </tr>\n",
       "    <tr>\n",
       "      <th>432</th>\n",
       "      <td>23.3</td>\n",
       "      <td>5.5</td>\n",
       "      <td>7.2</td>\n",
       "      <td>636.0</td>\n",
       "      <td>9.7</td>\n",
       "      <td>4.00</td>\n",
       "      <td>1328.0</td>\n",
       "      <td>4975.0</td>\n",
       "    </tr>\n",
       "    <tr>\n",
       "      <th>685</th>\n",
       "      <td>21.0</td>\n",
       "      <td>5.5</td>\n",
       "      <td>7.4</td>\n",
       "      <td>635.0</td>\n",
       "      <td>8.8</td>\n",
       "      <td>5.08</td>\n",
       "      <td>1400.0</td>\n",
       "      <td>5500.0</td>\n",
       "    </tr>\n",
       "    <tr>\n",
       "      <th>172</th>\n",
       "      <td>24.3</td>\n",
       "      <td>0.9</td>\n",
       "      <td>7.6</td>\n",
       "      <td>2039.0</td>\n",
       "      <td>104.5</td>\n",
       "      <td>0.90</td>\n",
       "      <td>272521616.0</td>\n",
       "      <td>511090873.0</td>\n",
       "    </tr>\n",
       "    <tr>\n",
       "      <th>432</th>\n",
       "      <td>23.3</td>\n",
       "      <td>5.5</td>\n",
       "      <td>7.2</td>\n",
       "      <td>636.0</td>\n",
       "      <td>9.7</td>\n",
       "      <td>4.00</td>\n",
       "      <td>1328.0</td>\n",
       "      <td>4975.0</td>\n",
       "    </tr>\n",
       "    <tr>\n",
       "      <th>685</th>\n",
       "      <td>21.0</td>\n",
       "      <td>5.5</td>\n",
       "      <td>7.4</td>\n",
       "      <td>635.0</td>\n",
       "      <td>8.8</td>\n",
       "      <td>5.08</td>\n",
       "      <td>1400.0</td>\n",
       "      <td>5500.0</td>\n",
       "    </tr>\n",
       "  </tbody>\n",
       "</table>\n",
       "<p>124 rows × 8 columns</p>\n",
       "</div>"
      ],
      "text/plain": [
       "     Temp  D.O. (mg/l)   PH  CONDUCTIVITY (µmhos/cm)  B.O.D. (mg/l)  \\\n",
       "741  28.0          8.2  7.6                    112.0            2.1   \n",
       "745  30.0          9.3  7.6                    193.0            2.3   \n",
       "37   25.3          5.3  7.7                  24062.0            9.9   \n",
       "88   26.3          3.7  7.7                  32005.0            1.2   \n",
       "108  30.0          5.6  7.2                  24360.0            2.1   \n",
       "..    ...          ...  ...                      ...            ...   \n",
       "432  23.3          5.5  7.2                    636.0            9.7   \n",
       "685  21.0          5.5  7.4                    635.0            8.8   \n",
       "172  24.3          0.9  7.6                   2039.0          104.5   \n",
       "432  23.3          5.5  7.2                    636.0            9.7   \n",
       "685  21.0          5.5  7.4                    635.0            8.8   \n",
       "\n",
       "     NITRATENAN N+ NITRITENANN (mg/l)  FECAL COLIFORM (MPN/100ml)  \\\n",
       "741                              0.52                       233.0   \n",
       "745                              0.52                       233.0   \n",
       "37                               1.20                       156.0   \n",
       "88                               0.90                     40000.0   \n",
       "108                              0.30                        92.0   \n",
       "..                                ...                         ...   \n",
       "432                              4.00                      1328.0   \n",
       "685                              5.08                      1400.0   \n",
       "172                              0.90                 272521616.0   \n",
       "432                              4.00                      1328.0   \n",
       "685                              5.08                      1400.0   \n",
       "\n",
       "     TOTAL COLIFORM (MPN/100ml)Mean  \n",
       "741                            31.0  \n",
       "745                            41.0  \n",
       "37                            304.0  \n",
       "88                          60392.0  \n",
       "108                           447.0  \n",
       "..                              ...  \n",
       "432                          4975.0  \n",
       "685                          5500.0  \n",
       "172                     511090873.0  \n",
       "432                          4975.0  \n",
       "685                          5500.0  \n",
       "\n",
       "[124 rows x 8 columns]"
      ]
     },
     "execution_count": 40,
     "metadata": {},
     "output_type": "execute_result"
    }
   ],
   "source": [
    "df_num_final_norm = zscore(dataset_final, axis=0)\n",
    "\n",
    "\n",
    "def indices_of_greater_than_3(df_norm):\n",
    "    indices_arr = []\n",
    "    n_col = df_norm.shape[1]\n",
    "    for index in range(n_col):\n",
    "        col_index = df_norm.iloc[: ,index]\n",
    "        greater_than_3 = df_norm[col_index > 3]\n",
    "        greater_than_3_index = greater_than_3.index\n",
    "        indices_arr.extend(greater_than_3_index)\n",
    "    return indices_arr\n",
    "\n",
    "indices_arr = indices_of_greater_than_3(df_num_final_norm)\n",
    "print(\"Number of outliers using Z-Score method-\",len(indices_arr))\n",
    "dataset_final.iloc[indices_arr, :]"
   ]
  },
  {
   "cell_type": "code",
   "execution_count": 41,
   "id": "ffC5HZeonAdn",
   "metadata": {
    "colab": {
     "base_uri": "https://localhost:8080/"
    },
    "id": "ffC5HZeonAdn",
    "outputId": "7e3d113e-5731-4241-eb4a-972e13ba9806"
   },
   "outputs": [
    {
     "data": {
      "text/plain": [
       "(1897, 8)"
      ]
     },
     "execution_count": 41,
     "metadata": {},
     "output_type": "execute_result"
    }
   ],
   "source": [
    "dataset_final.shape"
   ]
  },
  {
   "cell_type": "code",
   "execution_count": 42,
   "id": "RJDPD1gO9uXQ",
   "metadata": {
    "id": "RJDPD1gO9uXQ"
   },
   "outputs": [],
   "source": [
    "dataset_final = dataset_final.drop('Temp', axis = 1)"
   ]
  },
  {
   "cell_type": "code",
   "execution_count": 43,
   "id": "RjyNyNAKzQC3",
   "metadata": {
    "colab": {
     "base_uri": "https://localhost:8080/",
     "height": 361
    },
    "id": "RjyNyNAKzQC3",
    "outputId": "1ccbe469-b3d3-4692-a273-d9969d5d42fa"
   },
   "outputs": [
    {
     "data": {
      "text/html": [
       "<div>\n",
       "<style scoped>\n",
       "    .dataframe tbody tr th:only-of-type {\n",
       "        vertical-align: middle;\n",
       "    }\n",
       "\n",
       "    .dataframe tbody tr th {\n",
       "        vertical-align: top;\n",
       "    }\n",
       "\n",
       "    .dataframe thead th {\n",
       "        text-align: right;\n",
       "    }\n",
       "</style>\n",
       "<table border=\"1\" class=\"dataframe\">\n",
       "  <thead>\n",
       "    <tr style=\"text-align: right;\">\n",
       "      <th></th>\n",
       "      <th>D.O. (mg/l)</th>\n",
       "      <th>PH</th>\n",
       "      <th>CONDUCTIVITY (µmhos/cm)</th>\n",
       "      <th>B.O.D. (mg/l)</th>\n",
       "      <th>NITRATENAN N+ NITRITENANN (mg/l)</th>\n",
       "      <th>FECAL COLIFORM (MPN/100ml)</th>\n",
       "      <th>TOTAL COLIFORM (MPN/100ml)Mean</th>\n",
       "    </tr>\n",
       "  </thead>\n",
       "  <tbody>\n",
       "    <tr>\n",
       "      <th>count</th>\n",
       "      <td>1897.000000</td>\n",
       "      <td>1897.000000</td>\n",
       "      <td>1897.000000</td>\n",
       "      <td>1897.000000</td>\n",
       "      <td>1897.000000</td>\n",
       "      <td>1.897000e+03</td>\n",
       "      <td>1.897000e+03</td>\n",
       "    </tr>\n",
       "    <tr>\n",
       "      <th>mean</th>\n",
       "      <td>6.358813</td>\n",
       "      <td>7.228101</td>\n",
       "      <td>1853.228482</td>\n",
       "      <td>6.698743</td>\n",
       "      <td>1.543983</td>\n",
       "      <td>3.195046e+05</td>\n",
       "      <td>5.195576e+05</td>\n",
       "    </tr>\n",
       "    <tr>\n",
       "      <th>std</th>\n",
       "      <td>1.335221</td>\n",
       "      <td>0.649539</td>\n",
       "      <td>5641.196919</td>\n",
       "      <td>27.305497</td>\n",
       "      <td>3.955007</td>\n",
       "      <td>8.236472e+06</td>\n",
       "      <td>1.409048e+07</td>\n",
       "    </tr>\n",
       "    <tr>\n",
       "      <th>min</th>\n",
       "      <td>0.000000</td>\n",
       "      <td>0.000000</td>\n",
       "      <td>11.000000</td>\n",
       "      <td>0.100000</td>\n",
       "      <td>0.000000</td>\n",
       "      <td>0.000000e+00</td>\n",
       "      <td>0.000000e+00</td>\n",
       "    </tr>\n",
       "    <tr>\n",
       "      <th>25%</th>\n",
       "      <td>5.900000</td>\n",
       "      <td>6.900000</td>\n",
       "      <td>88.000000</td>\n",
       "      <td>1.200000</td>\n",
       "      <td>0.270000</td>\n",
       "      <td>4.900000e+01</td>\n",
       "      <td>1.140000e+02</td>\n",
       "    </tr>\n",
       "    <tr>\n",
       "      <th>50%</th>\n",
       "      <td>6.700000</td>\n",
       "      <td>7.300000</td>\n",
       "      <td>198.000000</td>\n",
       "      <td>1.900000</td>\n",
       "      <td>0.520000</td>\n",
       "      <td>2.330000e+02</td>\n",
       "      <td>4.650000e+02</td>\n",
       "    </tr>\n",
       "    <tr>\n",
       "      <th>75%</th>\n",
       "      <td>7.100000</td>\n",
       "      <td>7.600000</td>\n",
       "      <td>619.000000</td>\n",
       "      <td>3.600000</td>\n",
       "      <td>1.280000</td>\n",
       "      <td>7.060000e+02</td>\n",
       "      <td>1.700000e+03</td>\n",
       "    </tr>\n",
       "    <tr>\n",
       "      <th>max</th>\n",
       "      <td>11.400000</td>\n",
       "      <td>9.010000</td>\n",
       "      <td>65700.000000</td>\n",
       "      <td>534.500000</td>\n",
       "      <td>108.700000</td>\n",
       "      <td>2.725216e+08</td>\n",
       "      <td>5.110909e+08</td>\n",
       "    </tr>\n",
       "  </tbody>\n",
       "</table>\n",
       "</div>"
      ],
      "text/plain": [
       "       D.O. (mg/l)           PH  CONDUCTIVITY (µmhos/cm)  B.O.D. (mg/l)  \\\n",
       "count  1897.000000  1897.000000              1897.000000    1897.000000   \n",
       "mean      6.358813     7.228101              1853.228482       6.698743   \n",
       "std       1.335221     0.649539              5641.196919      27.305497   \n",
       "min       0.000000     0.000000                11.000000       0.100000   \n",
       "25%       5.900000     6.900000                88.000000       1.200000   \n",
       "50%       6.700000     7.300000               198.000000       1.900000   \n",
       "75%       7.100000     7.600000               619.000000       3.600000   \n",
       "max      11.400000     9.010000             65700.000000     534.500000   \n",
       "\n",
       "       NITRATENAN N+ NITRITENANN (mg/l)  FECAL COLIFORM (MPN/100ml)  \\\n",
       "count                       1897.000000                1.897000e+03   \n",
       "mean                           1.543983                3.195046e+05   \n",
       "std                            3.955007                8.236472e+06   \n",
       "min                            0.000000                0.000000e+00   \n",
       "25%                            0.270000                4.900000e+01   \n",
       "50%                            0.520000                2.330000e+02   \n",
       "75%                            1.280000                7.060000e+02   \n",
       "max                          108.700000                2.725216e+08   \n",
       "\n",
       "       TOTAL COLIFORM (MPN/100ml)Mean  \n",
       "count                    1.897000e+03  \n",
       "mean                     5.195576e+05  \n",
       "std                      1.409048e+07  \n",
       "min                      0.000000e+00  \n",
       "25%                      1.140000e+02  \n",
       "50%                      4.650000e+02  \n",
       "75%                      1.700000e+03  \n",
       "max                      5.110909e+08  "
      ]
     },
     "execution_count": 43,
     "metadata": {},
     "output_type": "execute_result"
    }
   ],
   "source": [
    "dataset_final.describe()"
   ]
  },
  {
   "cell_type": "code",
   "execution_count": 44,
   "id": "nX_0gOwfiunV",
   "metadata": {
    "colab": {
     "base_uri": "https://localhost:8080/"
    },
    "id": "nX_0gOwfiunV",
    "outputId": "c22f9bb0-f945-4324-98a0-f932e2c1bc48"
   },
   "outputs": [
    {
     "name": "stdout",
     "output_type": "stream",
     "text": [
      "Weights assigned by PCA:\n",
      "[-0.33102374 -0.16788272 -0.08648319  0.17824527 -0.0638653   0.64029028\n",
      "  0.63948224]\n"
     ]
    }
   ],
   "source": [
    "import numpy as np\n",
    "from sklearn.decomposition import PCA\n",
    "\n",
    "\n",
    "# compute the correlation matrix\n",
    "corr_matrix = np.corrcoef(dataset_final.T)\n",
    "\n",
    "# perform PCA\n",
    "pca = PCA(n_components=6)\n",
    "pca.fit(corr_matrix)\n",
    "\n",
    "# get the explained variance ratio and the weights\n",
    "explained_var_ratio = pca.explained_variance_ratio_\n",
    "weights = pca.components_[0]\n",
    "\n",
    "# print the weights\n",
    "print(\"Weights assigned by PCA:\")\n",
    "print(weights)"
   ]
  },
  {
   "cell_type": "code",
   "execution_count": 45,
   "id": "AK_BdbC6qeZw",
   "metadata": {
    "colab": {
     "base_uri": "https://localhost:8080/"
    },
    "id": "AK_BdbC6qeZw",
    "outputId": "f8f30e86-2312-4414-9442-e4e7930612cf"
   },
   "outputs": [
    {
     "name": "stdout",
     "output_type": "stream",
     "text": [
      "0.11740970417648669\n",
      "0.027708468586179556\n",
      "0.05220376720051314\n",
      "0.2415986516332395\n",
      "0.33904445757557805\n",
      "0.10637297528923957\n",
      "0.11566197553876341\n"
     ]
    }
   ],
   "source": [
    "import numpy as np\n",
    "from sklearn.decomposition import NMF\n",
    "\n",
    "# define the water quality parameters\n",
    "\n",
    "\n",
    "\n",
    "# apply NMF with 3 components\n",
    "nmf = NMF(n_components=7, init='random', random_state=0)\n",
    "W = nmf.fit_transform(dataset_final)\n",
    "H = nmf.components_\n",
    "\n",
    "# calculate the WQI weights\n",
    "weights = H.sum(axis=1) / H.sum()\n",
    "\n",
    "# print the weights for each parameter\n",
    "for i in range(0,7):\n",
    "    print(weights[i])\n"
   ]
  },
  {
   "cell_type": "code",
   "execution_count": 46,
   "id": "koWabcTzjgOr",
   "metadata": {
    "id": "koWabcTzjgOr"
   },
   "outputs": [],
   "source": [
    "\n",
    "def calculate_wqi(row):\n",
    "   #Given parameter weights\n",
    "   w_bod =0.24159865163321156\n",
    "   w_do =0.11740970417648633\n",
    "   w_ph = 0.02770846858617935\n",
    "   w_cond = 0.052203767200512806\n",
    "   w_nitrate = 0.33904445757558654\n",
    "   w_fc = 0.10637297528923939\n",
    "   w_tc = 0.11566197553878396\n",
    "#    w_t = 0.033561552386545755\n",
    "#    w_do =0.002165595568796463\n",
    "#    w_ph =0.0040535518965382775\n",
    "#    w_cond =0.7218823874496574\n",
    "#    w_bod =0.17219478706860095\n",
    "#    w_nitrate = 0.006089864166286124\n",
    "#    w_fc =0.05365444052723535\n",
    "#    w_tc =0.006397820936339693\n",
    "\n",
    "    \n",
    "   # Ideal values\n",
    "   temp_t = 20.0 # deg C\n",
    "   bod_t = 0.0 # mg/L\n",
    "   do_t = 14.6 # mg/L\n",
    "   ph_t = 7.0\n",
    "   cond_t = 0.0 # uS/cm\n",
    "   nitrate_t = 0.0 # mg/L\n",
    "   fc_t = 0.0 # MPN/100 mL\n",
    "   tc_t = 0.0 # MPN/100 mL\n",
    " \n",
    "   # Standard values\n",
    "   temp_u = 35.0 # deg C\n",
    "   bod_u = 5.0 # mg/L\n",
    "   do_u = 10.0 # mg/L\n",
    "   ph_u = 8.5\n",
    "   cond_u = 1000.0 # uS/cm\n",
    "   nitrate_u = 45.0 # mg/L\n",
    "   fc_u = 1000.0 # MPN/100 mL\n",
    "   tc_u = 5000.0 # MPN/100 mL\n",
    "\n",
    "#    temp = row['Temp'] # deg C\n",
    "   bod = row['B.O.D. (mg/l)'] # mg/L\n",
    "   do = row['D.O. (mg/l)'] # mg/L\n",
    "   ph = row['PH']\n",
    "   cond = row['CONDUCTIVITY (µmhos/cm)'] # uS/cm\n",
    "   nitrate = row['NITRATENAN N+ NITRITENANN (mg/l)'] # mg/L\n",
    "   fc =  row['FECAL COLIFORM (MPN/100ml)'] \n",
    "   tc = row['TOTAL COLIFORM (MPN/100ml)Mean']\n",
    "\n",
    "# Calculate sub-indices (si) for each parameter\n",
    "\n",
    "#    si_temp = ((abs(temp - temp_t) / (temp_u - temp_t)) * 100)\n",
    "   si_bod = (((bod / bod_u) * 100)if bod < bod_u else 100)\n",
    "   si_do = ((abs(do - do_t) / abs(do_u - do_t)) * 100)\n",
    "   si_ph = (((abs(ph - ph_t) / abs(ph_u - ph_t)) * 100))\n",
    "   si_cond = ((abs(cond - cond_t) / abs(cond_u - cond_t)) * 100 if cond < cond_u else 100)\n",
    "   si_nitrate = (((nitrate / nitrate_u) * 100)if nitrate < nitrate_u else 100)\n",
    "   si_fc = (((fc / fc_u) * 100)if fc < fc_u else 100)\n",
    "   si_tc = (((tc / tc_u) * 100)if tc < tc_u else 100)\n",
    "\n",
    "# Calculate weighted water quality index (wqi)\n",
    "   wqi = (w_bod * si_bod) + (w_do * si_do) + (w_ph * si_ph) + (w_cond * si_cond) + (w_nitrate * si_nitrate) + (w_fc * si_fc) + (w_tc * si_tc)\n",
    "   return wqi\n",
    "  "
   ]
  },
  {
   "cell_type": "code",
   "execution_count": 47,
   "id": "lfghJas7E0Fi",
   "metadata": {
    "id": "lfghJas7E0Fi"
   },
   "outputs": [],
   "source": [
    "# dataset_final = dataset_final.drop('Temp', axis = 1)"
   ]
  },
  {
   "cell_type": "code",
   "execution_count": 48,
   "id": "DK9-ko17E0To",
   "metadata": {
    "id": "DK9-ko17E0To"
   },
   "outputs": [],
   "source": [
    "\n",
    "# def calculate_wqi(row):\n",
    "  \n",
    "#    w_do = 0.2213\n",
    "#    w_ph = 0.2604\n",
    "#    w_cond =0.0022\n",
    "#    w_bod = 0.4426\n",
    "#    w_nitrate = 0.0492\n",
    "#    w_fc = 0.0221\n",
    "#    w_tc = 0.0022\n",
    "\n",
    "    \n",
    "#    # Ideal values\n",
    "#    temp_t = 20.0 # deg C\n",
    "#    bod_t = 0.0 # mg/L\n",
    "#    do_t = 14.6 # mg/L\n",
    "#    ph_t = 7.0\n",
    "#    cond_t = 0.0 # uS/cm\n",
    "#    nitrate_t = 0.0 # mg/L\n",
    "#    fc_t = 0.0 # MPN/100 mL\n",
    "#    tc_t = 0.0 # MPN/100 mL\n",
    " \n",
    "#    # Standard values\n",
    "#    temp_u = 35.0 # deg C\n",
    "#    bod_u = 5.0 # mg/L\n",
    "#    do_u = 10.0 # mg/L\n",
    "#    ph_u = 8.5\n",
    "#    cond_u = 1000.0 # uS/cm\n",
    "#    nitrate_u = 45.0 # mg/L\n",
    "#    fc_u = 1000.0 # MPN/100 mL\n",
    "#    tc_u = 5000.0 # MPN/100 mL\n",
    "\n",
    "#   #  temp = row['Temp'] # deg C\n",
    "#    bod = row['B.O.D. (mg/l)'] # mg/L\n",
    "#    do = row['D.O. (mg/l)'] # mg/L\n",
    "#    ph = row['PH']\n",
    "#    cond = row['CONDUCTIVITY (µmhos/cm)'] # uS/cm\n",
    "#    nitrate = row['NITRATENAN N+ NITRITENANN (mg/l)'] # mg/L\n",
    "#    fc =  row['FECAL COLIFORM (MPN/100ml)'] \n",
    "#    tc = row['TOTAL COLIFORM (MPN/100ml)Mean']\n",
    "\n",
    "# # Calculate sub-indices (si) for each parameter\n",
    "\n",
    "#   #  si_temp = ((abs(temp - temp_t) / (temp_u - temp_t)) * 100)\n",
    "#    si_bod = (((bod / bod_u) * 100)if bod < bod_u else 100)\n",
    "#    si_do = ((abs(do - do_t) / abs(do_u - do_t)) * 100)\n",
    "#    si_ph = (((abs(ph - ph_t) / abs(ph_u - ph_t)) * 100))\n",
    "#    si_cond = ((abs(cond - cond_t) / abs(cond_u - cond_t)) * 100 if cond < cond_u else 100)\n",
    "#    si_nitrate = (((nitrate / nitrate_u) * 100)if nitrate < nitrate_u else 100)\n",
    "#    si_fc = (((fc / fc_u) * 100)if fc < fc_u else 100)\n",
    "#    si_tc = (((tc / tc_u) * 100)if tc < tc_u else 100)\n",
    "\n",
    "# # Calculate weighted water quality index (wqi)\n",
    "#    wqi = (w_bod * si_bod) + (w_do * si_do) + (w_ph * si_ph) + (w_cond * si_cond) + (w_nitrate * si_nitrate) + (w_fc * si_fc) + (w_tc * si_tc)\n",
    "#    return wqi\n",
    "  "
   ]
  },
  {
   "cell_type": "code",
   "execution_count": 49,
   "id": "fc845608",
   "metadata": {
    "id": "fc845608"
   },
   "outputs": [],
   "source": [
    "wqi = []\n",
    "for i in range(0,len(dataset_final)):\n",
    "  wqi.append(calculate_wqi(dataset_final.iloc[i]))\n",
    "\n",
    "dataset_final['WQI'] = wqi"
   ]
  },
  {
   "cell_type": "code",
   "execution_count": 50,
   "id": "fe1afc17",
   "metadata": {
    "colab": {
     "base_uri": "https://localhost:8080/",
     "height": 267
    },
    "id": "fe1afc17",
    "outputId": "db906621-c88a-4bec-fa73-d8f232ef8eaa"
   },
   "outputs": [
    {
     "data": {
      "text/html": [
       "<div>\n",
       "<style scoped>\n",
       "    .dataframe tbody tr th:only-of-type {\n",
       "        vertical-align: middle;\n",
       "    }\n",
       "\n",
       "    .dataframe tbody tr th {\n",
       "        vertical-align: top;\n",
       "    }\n",
       "\n",
       "    .dataframe thead th {\n",
       "        text-align: right;\n",
       "    }\n",
       "</style>\n",
       "<table border=\"1\" class=\"dataframe\">\n",
       "  <thead>\n",
       "    <tr style=\"text-align: right;\">\n",
       "      <th></th>\n",
       "      <th>D.O. (mg/l)</th>\n",
       "      <th>PH</th>\n",
       "      <th>CONDUCTIVITY (µmhos/cm)</th>\n",
       "      <th>B.O.D. (mg/l)</th>\n",
       "      <th>NITRATENAN N+ NITRITENANN (mg/l)</th>\n",
       "      <th>FECAL COLIFORM (MPN/100ml)</th>\n",
       "      <th>TOTAL COLIFORM (MPN/100ml)Mean</th>\n",
       "      <th>WQI</th>\n",
       "    </tr>\n",
       "  </thead>\n",
       "  <tbody>\n",
       "    <tr>\n",
       "      <th>0</th>\n",
       "      <td>6.7</td>\n",
       "      <td>7.5</td>\n",
       "      <td>203.0</td>\n",
       "      <td>1.9</td>\n",
       "      <td>0.1</td>\n",
       "      <td>11.0</td>\n",
       "      <td>27.0</td>\n",
       "      <td>31.582752</td>\n",
       "    </tr>\n",
       "    <tr>\n",
       "      <th>1</th>\n",
       "      <td>5.7</td>\n",
       "      <td>7.2</td>\n",
       "      <td>189.0</td>\n",
       "      <td>2.0</td>\n",
       "      <td>0.2</td>\n",
       "      <td>4953.0</td>\n",
       "      <td>8391.0</td>\n",
       "      <td>56.090450</td>\n",
       "    </tr>\n",
       "    <tr>\n",
       "      <th>2</th>\n",
       "      <td>6.3</td>\n",
       "      <td>6.9</td>\n",
       "      <td>179.0</td>\n",
       "      <td>1.7</td>\n",
       "      <td>0.1</td>\n",
       "      <td>3243.0</td>\n",
       "      <td>5330.0</td>\n",
       "      <td>52.797157</td>\n",
       "    </tr>\n",
       "    <tr>\n",
       "      <th>3</th>\n",
       "      <td>5.8</td>\n",
       "      <td>6.9</td>\n",
       "      <td>64.0</td>\n",
       "      <td>3.8</td>\n",
       "      <td>0.5</td>\n",
       "      <td>5382.0</td>\n",
       "      <td>8443.0</td>\n",
       "      <td>63.921523</td>\n",
       "    </tr>\n",
       "    <tr>\n",
       "      <th>4</th>\n",
       "      <td>5.8</td>\n",
       "      <td>7.3</td>\n",
       "      <td>83.0</td>\n",
       "      <td>1.9</td>\n",
       "      <td>0.4</td>\n",
       "      <td>3428.0</td>\n",
       "      <td>5500.0</td>\n",
       "      <td>55.134064</td>\n",
       "    </tr>\n",
       "  </tbody>\n",
       "</table>\n",
       "</div>"
      ],
      "text/plain": [
       "   D.O. (mg/l)   PH  CONDUCTIVITY (µmhos/cm)  B.O.D. (mg/l)  \\\n",
       "0          6.7  7.5                    203.0            1.9   \n",
       "1          5.7  7.2                    189.0            2.0   \n",
       "2          6.3  6.9                    179.0            1.7   \n",
       "3          5.8  6.9                     64.0            3.8   \n",
       "4          5.8  7.3                     83.0            1.9   \n",
       "\n",
       "   NITRATENAN N+ NITRITENANN (mg/l)  FECAL COLIFORM (MPN/100ml)  \\\n",
       "0                               0.1                        11.0   \n",
       "1                               0.2                      4953.0   \n",
       "2                               0.1                      3243.0   \n",
       "3                               0.5                      5382.0   \n",
       "4                               0.4                      3428.0   \n",
       "\n",
       "   TOTAL COLIFORM (MPN/100ml)Mean        WQI  \n",
       "0                            27.0  31.582752  \n",
       "1                          8391.0  56.090450  \n",
       "2                          5330.0  52.797157  \n",
       "3                          8443.0  63.921523  \n",
       "4                          5500.0  55.134064  "
      ]
     },
     "execution_count": 50,
     "metadata": {},
     "output_type": "execute_result"
    }
   ],
   "source": [
    "dataset_final.head()"
   ]
  },
  {
   "cell_type": "code",
   "execution_count": 51,
   "id": "494e56e4",
   "metadata": {
    "colab": {
     "base_uri": "https://localhost:8080/",
     "height": 379
    },
    "id": "494e56e4",
    "outputId": "1f8de456-fdc8-4978-9241-982091662392",
    "scrolled": true
   },
   "outputs": [
    {
     "data": {
      "text/html": [
       "<div>\n",
       "<style scoped>\n",
       "    .dataframe tbody tr th:only-of-type {\n",
       "        vertical-align: middle;\n",
       "    }\n",
       "\n",
       "    .dataframe tbody tr th {\n",
       "        vertical-align: top;\n",
       "    }\n",
       "\n",
       "    .dataframe thead th {\n",
       "        text-align: right;\n",
       "    }\n",
       "</style>\n",
       "<table border=\"1\" class=\"dataframe\">\n",
       "  <thead>\n",
       "    <tr style=\"text-align: right;\">\n",
       "      <th></th>\n",
       "      <th>D.O. (mg/l)</th>\n",
       "      <th>PH</th>\n",
       "      <th>CONDUCTIVITY (µmhos/cm)</th>\n",
       "      <th>B.O.D. (mg/l)</th>\n",
       "      <th>NITRATENAN N+ NITRITENANN (mg/l)</th>\n",
       "      <th>FECAL COLIFORM (MPN/100ml)</th>\n",
       "      <th>TOTAL COLIFORM (MPN/100ml)Mean</th>\n",
       "      <th>WQI</th>\n",
       "    </tr>\n",
       "  </thead>\n",
       "  <tbody>\n",
       "    <tr>\n",
       "      <th>count</th>\n",
       "      <td>1897.000000</td>\n",
       "      <td>1897.000000</td>\n",
       "      <td>1897.000000</td>\n",
       "      <td>1897.000000</td>\n",
       "      <td>1897.000000</td>\n",
       "      <td>1.897000e+03</td>\n",
       "      <td>1.897000e+03</td>\n",
       "      <td>1897.000000</td>\n",
       "    </tr>\n",
       "    <tr>\n",
       "      <th>mean</th>\n",
       "      <td>6.358813</td>\n",
       "      <td>7.228101</td>\n",
       "      <td>1853.228482</td>\n",
       "      <td>6.698743</td>\n",
       "      <td>1.543983</td>\n",
       "      <td>3.195046e+05</td>\n",
       "      <td>5.195576e+05</td>\n",
       "      <td>43.617565</td>\n",
       "    </tr>\n",
       "    <tr>\n",
       "      <th>std</th>\n",
       "      <td>1.335221</td>\n",
       "      <td>0.649539</td>\n",
       "      <td>5641.196919</td>\n",
       "      <td>27.305497</td>\n",
       "      <td>3.955007</td>\n",
       "      <td>8.236472e+06</td>\n",
       "      <td>1.409048e+07</td>\n",
       "      <td>15.644589</td>\n",
       "    </tr>\n",
       "    <tr>\n",
       "      <th>min</th>\n",
       "      <td>0.000000</td>\n",
       "      <td>0.000000</td>\n",
       "      <td>11.000000</td>\n",
       "      <td>0.100000</td>\n",
       "      <td>0.000000</td>\n",
       "      <td>0.000000e+00</td>\n",
       "      <td>0.000000e+00</td>\n",
       "      <td>16.953799</td>\n",
       "    </tr>\n",
       "    <tr>\n",
       "      <th>25%</th>\n",
       "      <td>5.900000</td>\n",
       "      <td>6.900000</td>\n",
       "      <td>88.000000</td>\n",
       "      <td>1.200000</td>\n",
       "      <td>0.270000</td>\n",
       "      <td>4.900000e+01</td>\n",
       "      <td>1.140000e+02</td>\n",
       "      <td>31.840993</td>\n",
       "    </tr>\n",
       "    <tr>\n",
       "      <th>50%</th>\n",
       "      <td>6.700000</td>\n",
       "      <td>7.300000</td>\n",
       "      <td>198.000000</td>\n",
       "      <td>1.900000</td>\n",
       "      <td>0.520000</td>\n",
       "      <td>2.330000e+02</td>\n",
       "      <td>4.650000e+02</td>\n",
       "      <td>39.467342</td>\n",
       "    </tr>\n",
       "    <tr>\n",
       "      <th>75%</th>\n",
       "      <td>7.100000</td>\n",
       "      <td>7.600000</td>\n",
       "      <td>619.000000</td>\n",
       "      <td>3.600000</td>\n",
       "      <td>1.280000</td>\n",
       "      <td>7.060000e+02</td>\n",
       "      <td>1.700000e+03</td>\n",
       "      <td>50.357878</td>\n",
       "    </tr>\n",
       "    <tr>\n",
       "      <th>max</th>\n",
       "      <td>11.400000</td>\n",
       "      <td>9.010000</td>\n",
       "      <td>65700.000000</td>\n",
       "      <td>534.500000</td>\n",
       "      <td>108.700000</td>\n",
       "      <td>2.725216e+08</td>\n",
       "      <td>5.110909e+08</td>\n",
       "      <td>99.109260</td>\n",
       "    </tr>\n",
       "  </tbody>\n",
       "</table>\n",
       "</div>"
      ],
      "text/plain": [
       "       D.O. (mg/l)           PH  CONDUCTIVITY (µmhos/cm)  B.O.D. (mg/l)  \\\n",
       "count  1897.000000  1897.000000              1897.000000    1897.000000   \n",
       "mean      6.358813     7.228101              1853.228482       6.698743   \n",
       "std       1.335221     0.649539              5641.196919      27.305497   \n",
       "min       0.000000     0.000000                11.000000       0.100000   \n",
       "25%       5.900000     6.900000                88.000000       1.200000   \n",
       "50%       6.700000     7.300000               198.000000       1.900000   \n",
       "75%       7.100000     7.600000               619.000000       3.600000   \n",
       "max      11.400000     9.010000             65700.000000     534.500000   \n",
       "\n",
       "       NITRATENAN N+ NITRITENANN (mg/l)  FECAL COLIFORM (MPN/100ml)  \\\n",
       "count                       1897.000000                1.897000e+03   \n",
       "mean                           1.543983                3.195046e+05   \n",
       "std                            3.955007                8.236472e+06   \n",
       "min                            0.000000                0.000000e+00   \n",
       "25%                            0.270000                4.900000e+01   \n",
       "50%                            0.520000                2.330000e+02   \n",
       "75%                            1.280000                7.060000e+02   \n",
       "max                          108.700000                2.725216e+08   \n",
       "\n",
       "       TOTAL COLIFORM (MPN/100ml)Mean          WQI  \n",
       "count                    1.897000e+03  1897.000000  \n",
       "mean                     5.195576e+05    43.617565  \n",
       "std                      1.409048e+07    15.644589  \n",
       "min                      0.000000e+00    16.953799  \n",
       "25%                      1.140000e+02    31.840993  \n",
       "50%                      4.650000e+02    39.467342  \n",
       "75%                      1.700000e+03    50.357878  \n",
       "max                      5.110909e+08    99.109260  "
      ]
     },
     "execution_count": 51,
     "metadata": {},
     "output_type": "execute_result"
    }
   ],
   "source": [
    "dataset_final.describe()"
   ]
  },
  {
   "cell_type": "code",
   "execution_count": 52,
   "id": "9b825fe6",
   "metadata": {
    "colab": {
     "base_uri": "https://localhost:8080/"
    },
    "id": "9b825fe6",
    "outputId": "58249b59-e25f-4ec8-c6fe-fa83e0e338e0"
   },
   "outputs": [
    {
     "data": {
      "text/plain": [
       "(1897, 8)"
      ]
     },
     "execution_count": 52,
     "metadata": {},
     "output_type": "execute_result"
    }
   ],
   "source": [
    "dataset_final.shape"
   ]
  },
  {
   "cell_type": "code",
   "execution_count": 53,
   "id": "4aa218a7",
   "metadata": {
    "colab": {
     "base_uri": "https://localhost:8080/",
     "height": 267
    },
    "id": "4aa218a7",
    "outputId": "e0bdb27d-8fb9-4def-d28e-4202f14a52de",
    "scrolled": true
   },
   "outputs": [
    {
     "data": {
      "text/html": [
       "<div>\n",
       "<style scoped>\n",
       "    .dataframe tbody tr th:only-of-type {\n",
       "        vertical-align: middle;\n",
       "    }\n",
       "\n",
       "    .dataframe tbody tr th {\n",
       "        vertical-align: top;\n",
       "    }\n",
       "\n",
       "    .dataframe thead th {\n",
       "        text-align: right;\n",
       "    }\n",
       "</style>\n",
       "<table border=\"1\" class=\"dataframe\">\n",
       "  <thead>\n",
       "    <tr style=\"text-align: right;\">\n",
       "      <th></th>\n",
       "      <th>D.O. (mg/l)</th>\n",
       "      <th>PH</th>\n",
       "      <th>CONDUCTIVITY (µmhos/cm)</th>\n",
       "      <th>B.O.D. (mg/l)</th>\n",
       "      <th>NITRATENAN N+ NITRITENANN (mg/l)</th>\n",
       "      <th>FECAL COLIFORM (MPN/100ml)</th>\n",
       "      <th>TOTAL COLIFORM (MPN/100ml)Mean</th>\n",
       "      <th>WQI</th>\n",
       "    </tr>\n",
       "  </thead>\n",
       "  <tbody>\n",
       "    <tr>\n",
       "      <th>0</th>\n",
       "      <td>6.7</td>\n",
       "      <td>7.5</td>\n",
       "      <td>203.0</td>\n",
       "      <td>1.9</td>\n",
       "      <td>0.1</td>\n",
       "      <td>11.0</td>\n",
       "      <td>27.0</td>\n",
       "      <td>31.582752</td>\n",
       "    </tr>\n",
       "    <tr>\n",
       "      <th>1</th>\n",
       "      <td>5.7</td>\n",
       "      <td>7.2</td>\n",
       "      <td>189.0</td>\n",
       "      <td>2.0</td>\n",
       "      <td>0.2</td>\n",
       "      <td>4953.0</td>\n",
       "      <td>8391.0</td>\n",
       "      <td>56.090450</td>\n",
       "    </tr>\n",
       "    <tr>\n",
       "      <th>2</th>\n",
       "      <td>6.3</td>\n",
       "      <td>6.9</td>\n",
       "      <td>179.0</td>\n",
       "      <td>1.7</td>\n",
       "      <td>0.1</td>\n",
       "      <td>3243.0</td>\n",
       "      <td>5330.0</td>\n",
       "      <td>52.797157</td>\n",
       "    </tr>\n",
       "    <tr>\n",
       "      <th>3</th>\n",
       "      <td>5.8</td>\n",
       "      <td>6.9</td>\n",
       "      <td>64.0</td>\n",
       "      <td>3.8</td>\n",
       "      <td>0.5</td>\n",
       "      <td>5382.0</td>\n",
       "      <td>8443.0</td>\n",
       "      <td>63.921523</td>\n",
       "    </tr>\n",
       "    <tr>\n",
       "      <th>4</th>\n",
       "      <td>5.8</td>\n",
       "      <td>7.3</td>\n",
       "      <td>83.0</td>\n",
       "      <td>1.9</td>\n",
       "      <td>0.4</td>\n",
       "      <td>3428.0</td>\n",
       "      <td>5500.0</td>\n",
       "      <td>55.134064</td>\n",
       "    </tr>\n",
       "  </tbody>\n",
       "</table>\n",
       "</div>"
      ],
      "text/plain": [
       "   D.O. (mg/l)   PH  CONDUCTIVITY (µmhos/cm)  B.O.D. (mg/l)  \\\n",
       "0          6.7  7.5                    203.0            1.9   \n",
       "1          5.7  7.2                    189.0            2.0   \n",
       "2          6.3  6.9                    179.0            1.7   \n",
       "3          5.8  6.9                     64.0            3.8   \n",
       "4          5.8  7.3                     83.0            1.9   \n",
       "\n",
       "   NITRATENAN N+ NITRITENANN (mg/l)  FECAL COLIFORM (MPN/100ml)  \\\n",
       "0                               0.1                        11.0   \n",
       "1                               0.2                      4953.0   \n",
       "2                               0.1                      3243.0   \n",
       "3                               0.5                      5382.0   \n",
       "4                               0.4                      3428.0   \n",
       "\n",
       "   TOTAL COLIFORM (MPN/100ml)Mean        WQI  \n",
       "0                            27.0  31.582752  \n",
       "1                          8391.0  56.090450  \n",
       "2                          5330.0  52.797157  \n",
       "3                          8443.0  63.921523  \n",
       "4                          5500.0  55.134064  "
      ]
     },
     "execution_count": 53,
     "metadata": {},
     "output_type": "execute_result"
    }
   ],
   "source": [
    "dataset_final.head()"
   ]
  },
  {
   "cell_type": "code",
   "execution_count": 54,
   "id": "ff25186d",
   "metadata": {
    "id": "ff25186d"
   },
   "outputs": [],
   "source": [
    "dataset_neg_indices = dataset_final[(dataset_final[\"WQI\"] < 0)].index\n",
    "dataset_final.drop(dataset_neg_indices, axis=0, inplace=True)"
   ]
  },
  {
   "cell_type": "code",
   "execution_count": 55,
   "id": "54ba525a",
   "metadata": {
    "colab": {
     "base_uri": "https://localhost:8080/"
    },
    "id": "54ba525a",
    "outputId": "e9d5c326-eab9-4587-9aab-2183816873d5"
   },
   "outputs": [
    {
     "data": {
      "text/plain": [
       "Index(['D.O. (mg/l)', 'PH', 'CONDUCTIVITY (µmhos/cm)', 'B.O.D. (mg/l)',\n",
       "       'NITRATENAN N+ NITRITENANN (mg/l)', 'FECAL COLIFORM (MPN/100ml)',\n",
       "       'TOTAL COLIFORM (MPN/100ml)Mean', 'WQI'],\n",
       "      dtype='object')"
      ]
     },
     "execution_count": 55,
     "metadata": {},
     "output_type": "execute_result"
    }
   ],
   "source": [
    "dataset_final.columns"
   ]
  },
  {
   "cell_type": "code",
   "execution_count": 56,
   "id": "95bf28e5",
   "metadata": {
    "id": "95bf28e5"
   },
   "outputs": [],
   "source": [
    "dataset_final[\"WQI clf\"] = dataset_final['WQI'].apply(lambda x: (4 if (x <= 25)  \n",
    "                                        else(3 if (26<=x<=50) \n",
    "                                        else(2 if (51<=x<=75) \n",
    "                                        else 1))))"
   ]
  },
  {
   "cell_type": "code",
   "execution_count": 57,
   "id": "5d8fb0e0",
   "metadata": {
    "colab": {
     "base_uri": "https://localhost:8080/"
    },
    "id": "5d8fb0e0",
    "outputId": "3ab5e850-371b-4902-a690-ad1062f8c684"
   },
   "outputs": [
    {
     "data": {
      "text/plain": [
       "count    1897.000000\n",
       "mean        2.637849\n",
       "std         0.704193\n",
       "min         1.000000\n",
       "25%         2.000000\n",
       "50%         3.000000\n",
       "75%         3.000000\n",
       "max         4.000000\n",
       "Name: WQI clf, dtype: float64"
      ]
     },
     "execution_count": 57,
     "metadata": {},
     "output_type": "execute_result"
    }
   ],
   "source": [
    "dataset_final['WQI clf'].describe()"
   ]
  },
  {
   "cell_type": "code",
   "execution_count": 58,
   "id": "db716787",
   "metadata": {
    "colab": {
     "base_uri": "https://localhost:8080/"
    },
    "id": "db716787",
    "outputId": "ca118a7d-e5f6-409a-c959-b5aef4927827"
   },
   "outputs": [
    {
     "data": {
      "text/plain": [
       "3    1335\n",
       "2     311\n",
       "1     209\n",
       "4      42\n",
       "Name: WQI clf, dtype: int64"
      ]
     },
     "execution_count": 58,
     "metadata": {},
     "output_type": "execute_result"
    }
   ],
   "source": [
    "dataset_final['WQI clf'].value_counts()"
   ]
  },
  {
   "cell_type": "code",
   "execution_count": 59,
   "id": "fde2a60b",
   "metadata": {
    "id": "fde2a60b"
   },
   "outputs": [],
   "source": [
    "y=dataset_final['WQI clf']\n",
    "X=dataset_final.drop(['WQI clf', 'WQI'], axis=1)"
   ]
  },
  {
   "cell_type": "code",
   "execution_count": 60,
   "id": "20be1902",
   "metadata": {
    "id": "20be1902"
   },
   "outputs": [],
   "source": [
    "from sklearn.preprocessing import StandardScaler\n",
    "scaler=StandardScaler()\n",
    "X=scaler.fit(X).transform(X)"
   ]
  },
  {
   "cell_type": "markdown",
   "id": "5103d54d",
   "metadata": {
    "id": "5103d54d"
   },
   "source": [
    "# Feature Selection"
   ]
  },
  {
   "cell_type": "code",
   "execution_count": 61,
   "id": "6e0d06cf",
   "metadata": {
    "id": "6e0d06cf"
   },
   "outputs": [],
   "source": [
    "from sklearn.feature_selection import SelectKBest, f_classif, chi2\n",
    "from sklearn.model_selection import train_test_split\n",
    "from sklearn.model_selection import GridSearchCV\n",
    "from sklearn.ensemble import RandomForestRegressor\n",
    "from sklearn.metrics import r2_score\n",
    "from sklearn.model_selection import train_test_split\n",
    "\n",
    "features=[]\n",
    "r2=[]\n",
    "\n",
    "def iter_1(i):\n",
    "  selector = SelectKBest(f_classif, k=i)\n",
    "  selector.fit(X, y)\n",
    "  X_=selector.transform(X)\n",
    "  train_X, test_X, train_y, test_y = train_test_split(X_, y, test_size = 0.30, random_state = 0)\n",
    "  model=RandomForestRegressor()\n",
    "  model.fit(train_X,train_y)\n",
    "  prediction=model.predict(test_X)\n",
    "  r2score=r2_score(test_y,prediction)\n",
    "  r2.append(r2score)\n",
    "  features.append(i)"
   ]
  },
  {
   "cell_type": "code",
   "execution_count": 62,
   "id": "3b043fc2",
   "metadata": {
    "id": "3b043fc2"
   },
   "outputs": [],
   "source": [
    "for i in range(2,X.shape[1]):\n",
    "  iter_1(i)"
   ]
  },
  {
   "cell_type": "code",
   "execution_count": 63,
   "id": "a2097d89",
   "metadata": {
    "colab": {
     "base_uri": "https://localhost:8080/",
     "height": 237
    },
    "id": "a2097d89",
    "outputId": "0ac0ba4a-fbf2-4d30-d383-0378a4a06b16",
    "scrolled": true
   },
   "outputs": [
    {
     "data": {
      "text/html": [
       "<div>\n",
       "<style scoped>\n",
       "    .dataframe tbody tr th:only-of-type {\n",
       "        vertical-align: middle;\n",
       "    }\n",
       "\n",
       "    .dataframe tbody tr th {\n",
       "        vertical-align: top;\n",
       "    }\n",
       "\n",
       "    .dataframe thead th {\n",
       "        text-align: right;\n",
       "    }\n",
       "</style>\n",
       "<table border=\"1\" class=\"dataframe\">\n",
       "  <thead>\n",
       "    <tr style=\"text-align: right;\">\n",
       "      <th></th>\n",
       "      <th>0</th>\n",
       "      <th>0</th>\n",
       "    </tr>\n",
       "  </thead>\n",
       "  <tbody>\n",
       "    <tr>\n",
       "      <th>0</th>\n",
       "      <td>0.389595</td>\n",
       "      <td>2</td>\n",
       "    </tr>\n",
       "    <tr>\n",
       "      <th>1</th>\n",
       "      <td>0.555417</td>\n",
       "      <td>3</td>\n",
       "    </tr>\n",
       "    <tr>\n",
       "      <th>2</th>\n",
       "      <td>0.533965</td>\n",
       "      <td>4</td>\n",
       "    </tr>\n",
       "    <tr>\n",
       "      <th>3</th>\n",
       "      <td>0.568937</td>\n",
       "      <td>5</td>\n",
       "    </tr>\n",
       "    <tr>\n",
       "      <th>4</th>\n",
       "      <td>0.660914</td>\n",
       "      <td>6</td>\n",
       "    </tr>\n",
       "  </tbody>\n",
       "</table>\n",
       "</div>"
      ],
      "text/plain": [
       "          0  0\n",
       "0  0.389595  2\n",
       "1  0.555417  3\n",
       "2  0.533965  4\n",
       "3  0.568937  5\n",
       "4  0.660914  6"
      ]
     },
     "execution_count": 63,
     "metadata": {},
     "output_type": "execute_result"
    }
   ],
   "source": [
    "r2_df = pd.DataFrame(r2)\n",
    "feat_df=pd.DataFrame(features)\n",
    "\n",
    "pd.concat([r2_df, feat_df], axis=1)"
   ]
  },
  {
   "cell_type": "code",
   "execution_count": 64,
   "id": "56c8749b",
   "metadata": {
    "colab": {
     "base_uri": "https://localhost:8080/",
     "height": 295
    },
    "id": "56c8749b",
    "outputId": "83ac9a6f-5e0f-43dd-d410-8143493a7df0"
   },
   "outputs": [
    {
     "data": {
      "image/png": "[encoded data removed]",
      "text/plain": [
       "<Figure size 432x288 with 1 Axes>"
      ]
     },
     "metadata": {
      "needs_background": "light"
     },
     "output_type": "display_data"
    }
   ],
   "source": [
    "plt.plot(features, r2)\n",
    "plt.xlabel('Features')\n",
    "plt.ylabel('R2-Score')\n",
    "plt.title('R2-Score v/s Features (One-way ANOVA)')\n",
    "  \n",
    "plt.show()\n",
    "# hence no point of feature selection, the graph is increasing"
   ]
  },
  {
   "cell_type": "markdown",
   "id": "d2xr1NS4HMxC",
   "metadata": {
    "id": "d2xr1NS4HMxC"
   },
   "source": [
    "## OverSampling"
   ]
  },
  {
   "cell_type": "code",
   "execution_count": 65,
   "id": "NVNxf9IRHLSU",
   "metadata": {
    "colab": {
     "base_uri": "https://localhost:8080/"
    },
    "id": "NVNxf9IRHLSU",
    "outputId": "d3927c53-b402-4e70-865a-3dae3911af3b"
   },
   "outputs": [
    {
     "name": "stdout",
     "output_type": "stream",
     "text": [
      "Requirement already satisfied: imbalanced-learn in c:\\users\\vaish\\anaconda3\\lib\\site-packages (0.9.1)\n",
      "Requirement already satisfied: joblib>=1.0.0 in c:\\users\\vaish\\anaconda3\\lib\\site-packages (from imbalanced-learn) (1.1.0)\n",
      "Requirement already satisfied: scikit-learn>=1.1.0 in c:\\users\\vaish\\anaconda3\\lib\\site-packages (from imbalanced-learn) (1.1.3)\n",
      "Requirement already satisfied: threadpoolctl>=2.0.0 in c:\\users\\vaish\\anaconda3\\lib\\site-packages (from imbalanced-learn) (2.2.0)\n",
      "Requirement already satisfied: scipy>=1.3.2 in c:\\users\\vaish\\anaconda3\\lib\\site-packages (from imbalanced-learn) (1.7.3)\n",
      "Requirement already satisfied: numpy>=1.17.3 in c:\\users\\vaish\\anaconda3\\lib\\site-packages (from imbalanced-learn) (1.21.5)\n",
      "Note: you may need to restart the kernel to use updated packages.\n"
     ]
    },
    {
     "name": "stderr",
     "output_type": "stream",
     "text": [
      "WARNING: Ignoring invalid distribution -etworkx (c:\\users\\vaish\\anaconda3\\lib\\site-packages)\n",
      "WARNING: Ignoring invalid distribution -etworkx (c:\\users\\vaish\\anaconda3\\lib\\site-packages)\n",
      "WARNING: Ignoring invalid distribution -etworkx (c:\\users\\vaish\\anaconda3\\lib\\site-packages)\n",
      "WARNING: Ignoring invalid distribution -etworkx (c:\\users\\vaish\\anaconda3\\lib\\site-packages)\n",
      "WARNING: Ignoring invalid distribution -etworkx (c:\\users\\vaish\\anaconda3\\lib\\site-packages)\n",
      "WARNING: Ignoring invalid distribution -etworkx (c:\\users\\vaish\\anaconda3\\lib\\site-packages)\n"
     ]
    }
   ],
   "source": [
    "pip install imbalanced-learn"
   ]
  },
  {
   "cell_type": "code",
   "execution_count": 66,
   "id": "5SlhyZ8XHTGT",
   "metadata": {
    "colab": {
     "base_uri": "https://localhost:8080/"
    },
    "id": "5SlhyZ8XHTGT",
    "outputId": "60096469-9c60-4bd1-b8ee-902385beadb1"
   },
   "outputs": [
    {
     "name": "stdout",
     "output_type": "stream",
     "text": [
      "0.9.1\n"
     ]
    }
   ],
   "source": [
    "# check version number\n",
    "import imblearn\n",
    "print(imblearn.__version__)"
   ]
  },
  {
   "cell_type": "code",
   "execution_count": 67,
   "id": "iLazR1HLHcEN",
   "metadata": {
    "colab": {
     "base_uri": "https://localhost:8080/",
     "height": 334
    },
    "id": "iLazR1HLHcEN",
    "outputId": "4700ac08-bc8b-4b95-cad6-ccc87961b3a1"
   },
   "outputs": [
    {
     "name": "stdout",
     "output_type": "stream",
     "text": [
      "Class=2, n=1335 (25.000%)\n",
      "Class=1, n=1335 (25.000%)\n",
      "Class=0, n=1335 (25.000%)\n",
      "Class=3, n=1335 (25.000%)\n"
     ]
    },
    {
     "data": {
      "image/png": "[encoded data removed]",
      "text/plain": [
       "<Figure size 432x288 with 1 Axes>"
      ]
     },
     "metadata": {
      "needs_background": "light"
     },
     "output_type": "display_data"
    }
   ],
   "source": [
    "# example of oversampling a multi-class classification dataset\n",
    "from pandas import read_csv\n",
    "from imblearn.over_sampling import SMOTE\n",
    "from collections import Counter\n",
    "from matplotlib import pyplot\n",
    "from sklearn.preprocessing import LabelEncoder\n",
    "\n",
    "y = LabelEncoder().fit_transform(y)\n",
    "# transform the dataset\n",
    "oversample = SMOTE()\n",
    "X, y = oversample.fit_resample(X, y)\n",
    "# summarize distribution\n",
    "counter = Counter(y)\n",
    "for k,v in counter.items():\n",
    "\tper = v / len(y) * 100\n",
    "\tprint('Class=%d, n=%d (%.3f%%)' % (k, v, per))\n",
    "# plot the distribution\n",
    "pyplot.bar(counter.keys(), counter.values())\n",
    "pyplot.show()"
   ]
  },
  {
   "cell_type": "code",
   "execution_count": 68,
   "id": "bKLat-LBHzH8",
   "metadata": {
    "id": "bKLat-LBHzH8"
   },
   "outputs": [
    {
     "data": {
      "text/plain": [
       "(5340, 7)"
      ]
     },
     "execution_count": 68,
     "metadata": {},
     "output_type": "execute_result"
    }
   ],
   "source": [
    "X.shape"
   ]
  },
  {
   "cell_type": "code",
   "execution_count": 69,
   "id": "c4de4502",
   "metadata": {},
   "outputs": [
    {
     "data": {
      "text/plain": [
       "1335"
      ]
     },
     "execution_count": 69,
     "metadata": {},
     "output_type": "execute_result"
    }
   ],
   "source": [
    "np.count_nonzero(y == 0)"
   ]
  },
  {
   "cell_type": "markdown",
   "id": "26ebf592",
   "metadata": {
    "id": "26ebf592"
   },
   "source": [
    "# Classification"
   ]
  },
  {
   "cell_type": "markdown",
   "id": "Lkw56HxiLnN4",
   "metadata": {
    "id": "Lkw56HxiLnN4"
   },
   "source": [
    "## Logistic Regression"
   ]
  },
  {
   "cell_type": "code",
   "execution_count": 70,
   "id": "835a6e75",
   "metadata": {
    "id": "835a6e75"
   },
   "outputs": [],
   "source": [
    "from sklearn.model_selection import train_test_split\n",
    "X_train, X_test, y_train, y_test = train_test_split(X, y, test_size=0.3, random_state=0)  "
   ]
  },
  {
   "cell_type": "code",
   "execution_count": 71,
   "id": "5b939eed",
   "metadata": {
    "colab": {
     "base_uri": "https://localhost:8080/"
    },
    "id": "5b939eed",
    "outputId": "51acda46-69e9-45c8-b213-1391798db89b"
   },
   "outputs": [
    {
     "name": "stderr",
     "output_type": "stream",
     "text": [
      "C:\\Users\\vaish\\anaconda3\\lib\\site-packages\\sklearn\\linear_model\\_logistic.py:814: ConvergenceWarning: lbfgs failed to converge (status=1):\n",
      "STOP: TOTAL NO. of ITERATIONS REACHED LIMIT.\n",
      "\n",
      "Increase the number of iterations (max_iter) or scale the data as shown in:\n",
      "    https://scikit-learn.org/stable/modules/preprocessing.html\n",
      "Please also refer to the documentation for alternative solver options:\n",
      "    https://scikit-learn.org/stable/modules/linear_model.html#logistic-regression\n",
      "  n_iter_i = _check_optimize_result(\n"
     ]
    }
   ],
   "source": [
    "from sklearn.linear_model import LogisticRegression\n",
    "classifier=LogisticRegression(random_state=0)\n",
    "classifier.fit(X_train, y_train)\n",
    "y_pred=classifier.predict(X_test)"
   ]
  },
  {
   "cell_type": "code",
   "execution_count": 72,
   "id": "e952f2d1",
   "metadata": {
    "colab": {
     "base_uri": "https://localhost:8080/"
    },
    "id": "e952f2d1",
    "outputId": "91fe2fa8-09aa-44a6-e326-1cb0749be194"
   },
   "outputs": [
    {
     "name": "stdout",
     "output_type": "stream",
     "text": [
      "              precision    recall  f1-score   support\n",
      "\n",
      "           0       0.70      0.64      0.67       390\n",
      "           1       0.72      0.45      0.55       398\n",
      "           2       0.57      0.72      0.64       403\n",
      "           3       0.76      0.90      0.82       411\n",
      "\n",
      "    accuracy                           0.68      1602\n",
      "   macro avg       0.69      0.68      0.67      1602\n",
      "weighted avg       0.69      0.68      0.67      1602\n",
      "\n",
      "0.6785268414481898\n",
      "[[248  37  56  49]\n",
      " [ 95 179 121   3]\n",
      " [ 11  33 292  67]\n",
      " [  0   0  43 368]]\n"
     ]
    }
   ],
   "source": [
    "from sklearn.metrics import classification_report, accuracy_score, confusion_matrix\n",
    "print(classification_report(y_test, y_pred))\n",
    "print(accuracy_score(y_test, y_pred))\n",
    "print(confusion_matrix(y_test, y_pred))"
   ]
  },
  {
   "cell_type": "markdown",
   "id": "sH-qIpB6LsW7",
   "metadata": {
    "id": "sH-qIpB6LsW7"
   },
   "source": [
    "## KNN"
   ]
  },
  {
   "cell_type": "code",
   "execution_count": 73,
   "id": "acdd9847",
   "metadata": {
    "id": "acdd9847"
   },
   "outputs": [],
   "source": [
    "from sklearn.preprocessing import StandardScaler\n",
    "scaler=StandardScaler()\n",
    "X=scaler.fit(X).transform(X)\n",
    "\n",
    "from sklearn.neighbors import KNeighborsClassifier\n",
    "k=KNeighborsClassifier()\n",
    "k.fit(X_train,y_train)\n",
    "result=k.predict(X_test)"
   ]
  },
  {
   "cell_type": "code",
   "execution_count": 74,
   "id": "91KaWnxrOBp0",
   "metadata": {
    "colab": {
     "base_uri": "https://localhost:8080/"
    },
    "id": "91KaWnxrOBp0",
    "outputId": "581fe636-ac4a-4d9d-b2a4-8da7e4b8fdc2"
   },
   "outputs": [
    {
     "name": "stdout",
     "output_type": "stream",
     "text": [
      "              precision    recall  f1-score   support\n",
      "\n",
      "           0       0.70      0.64      0.67       390\n",
      "           1       0.72      0.45      0.55       398\n",
      "           2       0.57      0.72      0.64       403\n",
      "           3       0.76      0.90      0.82       411\n",
      "\n",
      "    accuracy                           0.68      1602\n",
      "   macro avg       0.69      0.68      0.67      1602\n",
      "weighted avg       0.69      0.68      0.67      1602\n",
      "\n",
      "0.6785268414481898\n",
      "[[248  37  56  49]\n",
      " [ 95 179 121   3]\n",
      " [ 11  33 292  67]\n",
      " [  0   0  43 368]]\n"
     ]
    }
   ],
   "source": [
    "from sklearn.metrics import classification_report, accuracy_score, confusion_matrix\n",
    "print(classification_report(y_test, y_pred))\n",
    "print(accuracy_score(y_test, y_pred))\n",
    "print(confusion_matrix(y_test, y_pred))"
   ]
  },
  {
   "cell_type": "markdown",
   "id": "k3l2JqwLMsvV",
   "metadata": {
    "id": "k3l2JqwLMsvV"
   },
   "source": [
    "## Naive Bayes"
   ]
  },
  {
   "cell_type": "code",
   "execution_count": 75,
   "id": "oYtiM6otLvHV",
   "metadata": {
    "id": "oYtiM6otLvHV"
   },
   "outputs": [],
   "source": [
    "from sklearn.naive_bayes import GaussianNB\n",
    "m=GaussianNB()\n",
    "m.fit(X_train, y_train)\n",
    "pred3=m.predict(X_test)"
   ]
  },
  {
   "cell_type": "code",
   "execution_count": 76,
   "id": "74AsafU0MkIi",
   "metadata": {
    "colab": {
     "base_uri": "https://localhost:8080/"
    },
    "id": "74AsafU0MkIi",
    "outputId": "ddb77888-e612-4aa1-83fe-24e95fc21c1a"
   },
   "outputs": [
    {
     "name": "stdout",
     "output_type": "stream",
     "text": [
      "              precision    recall  f1-score   support\n",
      "\n",
      "           0       0.70      0.64      0.67       390\n",
      "           1       0.72      0.45      0.55       398\n",
      "           2       0.57      0.72      0.64       403\n",
      "           3       0.76      0.90      0.82       411\n",
      "\n",
      "    accuracy                           0.68      1602\n",
      "   macro avg       0.69      0.68      0.67      1602\n",
      "weighted avg       0.69      0.68      0.67      1602\n",
      "\n",
      "0.6785268414481898\n",
      "[[248  37  56  49]\n",
      " [ 95 179 121   3]\n",
      " [ 11  33 292  67]\n",
      " [  0   0  43 368]]\n"
     ]
    }
   ],
   "source": [
    "from sklearn.metrics import classification_report, accuracy_score, confusion_matrix\n",
    "print(classification_report(y_test, y_pred))\n",
    "print(accuracy_score(y_test, y_pred))\n",
    "print(confusion_matrix(y_test, y_pred))"
   ]
  },
  {
   "cell_type": "markdown",
   "id": "aHErPBcQNpy1",
   "metadata": {
    "id": "aHErPBcQNpy1"
   },
   "source": [
    "## DecisionTreeClassifier"
   ]
  },
  {
   "cell_type": "code",
   "execution_count": 77,
   "id": "Yc1VarryNqks",
   "metadata": {
    "id": "Yc1VarryNqks"
   },
   "outputs": [],
   "source": [
    "from sklearn.tree import DecisionTreeClassifier\n",
    "d=DecisionTreeClassifier()\n",
    "d.fit(X_train,y_train)\n",
    "y_pred=d.predict(X_test)"
   ]
  },
  {
   "cell_type": "code",
   "execution_count": 78,
   "id": "QmznhLcVNxKw",
   "metadata": {
    "colab": {
     "base_uri": "https://localhost:8080/"
    },
    "id": "QmznhLcVNxKw",
    "outputId": "483a9c48-06f2-4a54-c31b-b3073de30173"
   },
   "outputs": [
    {
     "name": "stdout",
     "output_type": "stream",
     "text": [
      "              precision    recall  f1-score   support\n",
      "\n",
      "           0       0.92      0.89      0.91       390\n",
      "           1       0.93      0.97      0.95       398\n",
      "           2       0.95      0.92      0.93       403\n",
      "           3       0.98      1.00      0.99       411\n",
      "\n",
      "    accuracy                           0.95      1602\n",
      "   macro avg       0.94      0.94      0.94      1602\n",
      "weighted avg       0.94      0.95      0.94      1602\n",
      "\n",
      "0.9450686641697877\n",
      "[[348  18  15   9]\n",
      " [  8 386   4   0]\n",
      " [ 22  10 370   1]\n",
      " [  0   0   1 410]]\n"
     ]
    }
   ],
   "source": [
    "from sklearn.metrics import classification_report, accuracy_score, confusion_matrix\n",
    "print(classification_report(y_test, y_pred))\n",
    "print(accuracy_score(y_test, y_pred))\n",
    "print(confusion_matrix(y_test, y_pred))"
   ]
  },
  {
   "cell_type": "markdown",
   "id": "mrm-CFPKOK_i",
   "metadata": {
    "id": "mrm-CFPKOK_i"
   },
   "source": [
    "\n",
    "\n",
    "\n",
    "## Random Forest\n",
    "\n"
   ]
  },
  {
   "cell_type": "code",
   "execution_count": 79,
   "id": "tBDsZbu6OMNw",
   "metadata": {
    "id": "tBDsZbu6OMNw"
   },
   "outputs": [],
   "source": [
    "from sklearn.ensemble import RandomForestClassifier\n",
    "rf=RandomForestClassifier()\n",
    "rf.fit(X_train,y_train)\n",
    "y_pred=rf.predict(X_test)"
   ]
  },
  {
   "cell_type": "code",
   "execution_count": 80,
   "id": "5Ll-ot36OQ9S",
   "metadata": {
    "colab": {
     "base_uri": "https://localhost:8080/"
    },
    "id": "5Ll-ot36OQ9S",
    "outputId": "cbac2f32-311d-4ecd-fe69-f772500074c9"
   },
   "outputs": [
    {
     "name": "stdout",
     "output_type": "stream",
     "text": [
      "              precision    recall  f1-score   support\n",
      "\n",
      "           0       0.98      0.90      0.94       390\n",
      "           1       0.95      0.99      0.97       398\n",
      "           2       0.95      0.97      0.96       403\n",
      "           3       0.98      1.00      0.99       411\n",
      "\n",
      "    accuracy                           0.97      1602\n",
      "   macro avg       0.97      0.96      0.96      1602\n",
      "weighted avg       0.97      0.97      0.96      1602\n",
      "\n",
      "0.9650436953807741\n",
      "[[351  16  16   7]\n",
      " [  3 393   2   0]\n",
      " [  4   5 392   2]\n",
      " [  0   0   1 410]]\n"
     ]
    }
   ],
   "source": [
    "from sklearn.metrics import classification_report, accuracy_score, confusion_matrix\n",
    "print(classification_report(y_test, y_pred))\n",
    "print(accuracy_score(y_test, y_pred))\n",
    "print(confusion_matrix(y_test, y_pred))"
   ]
  },
  {
   "cell_type": "markdown",
   "id": "IMNdzc0jOjv1",
   "metadata": {
    "id": "IMNdzc0jOjv1"
   },
   "source": [
    "## GradientBoostingClassifier"
   ]
  },
  {
   "cell_type": "code",
   "execution_count": 81,
   "id": "5wVFgVMTOd33",
   "metadata": {
    "id": "5wVFgVMTOd33"
   },
   "outputs": [],
   "source": [
    "from sklearn.ensemble import GradientBoostingClassifier\n",
    "gbc=GradientBoostingClassifier()\n",
    "gbc.fit(X_train,y_train)\n",
    "y_pred=gbc.predict(X_test)"
   ]
  },
  {
   "cell_type": "code",
   "execution_count": 82,
   "id": "E_BPCCfbOi0F",
   "metadata": {
    "colab": {
     "base_uri": "https://localhost:8080/"
    },
    "id": "E_BPCCfbOi0F",
    "outputId": "ed30743f-9648-418f-b9d8-05f702441b45"
   },
   "outputs": [
    {
     "name": "stdout",
     "output_type": "stream",
     "text": [
      "              precision    recall  f1-score   support\n",
      "\n",
      "           0       0.94      0.87      0.90       390\n",
      "           1       0.91      0.96      0.94       398\n",
      "           2       0.95      0.94      0.94       403\n",
      "           3       0.97      1.00      0.99       411\n",
      "\n",
      "    accuracy                           0.94      1602\n",
      "   macro avg       0.94      0.94      0.94      1602\n",
      "weighted avg       0.94      0.94      0.94      1602\n",
      "\n",
      "0.9431960049937578\n",
      "[[338  27  17   8]\n",
      " [ 10 383   5   0]\n",
      " [ 10  11 379   3]\n",
      " [  0   0   0 411]]\n"
     ]
    }
   ],
   "source": [
    "from sklearn.metrics import classification_report, accuracy_score, confusion_matrix\n",
    "print(classification_report(y_test, y_pred))\n",
    "print(accuracy_score(y_test, y_pred))\n",
    "print(confusion_matrix(y_test, y_pred))"
   ]
  },
  {
   "cell_type": "markdown",
   "id": "wgUAf3GkOqoh",
   "metadata": {
    "id": "wgUAf3GkOqoh"
   },
   "source": [
    "# Support Vector Classifier"
   ]
  },
  {
   "cell_type": "code",
   "execution_count": 83,
   "id": "3DGDREZiOoyc",
   "metadata": {
    "id": "3DGDREZiOoyc"
   },
   "outputs": [],
   "source": [
    "from sklearn.svm import SVC\n",
    "svc=SVC()\n",
    "svc.fit(X_train,y_train)\n",
    "y_pred=svc.predict(X_test)"
   ]
  },
  {
   "cell_type": "code",
   "execution_count": 84,
   "id": "UwsSIxUROwKe",
   "metadata": {
    "colab": {
     "base_uri": "https://localhost:8080/"
    },
    "id": "UwsSIxUROwKe",
    "outputId": "820cce59-9532-4a87-ce1f-f73be785873b"
   },
   "outputs": [
    {
     "name": "stdout",
     "output_type": "stream",
     "text": [
      "              precision    recall  f1-score   support\n",
      "\n",
      "           0       0.92      0.61      0.73       390\n",
      "           1       0.72      0.70      0.71       398\n",
      "           2       0.58      0.63      0.60       403\n",
      "           3       0.73      0.92      0.82       411\n",
      "\n",
      "    accuracy                           0.72      1602\n",
      "   macro avg       0.74      0.71      0.71      1602\n",
      "weighted avg       0.73      0.72      0.71      1602\n",
      "\n",
      "0.715980024968789\n",
      "[[237  49  57  47]\n",
      " [ 15 280  96   7]\n",
      " [  7  61 252  83]\n",
      " [  0   0  33 378]]\n"
     ]
    }
   ],
   "source": [
    "from sklearn.metrics import classification_report, accuracy_score, confusion_matrix\n",
    "print(classification_report(y_test, y_pred))\n",
    "print(accuracy_score(y_test, y_pred))\n",
    "print(confusion_matrix(y_test, y_pred))"
   ]
  }
 ],
 "metadata": {
  "colab": {
   "provenance": []
  },
  "kernelspec": {
   "display_name": "Python 3 (ipykernel)",
   "language": "python",
   "name": "python3"
  },
  "language_info": {
   "codemirror_mode": {
    "name": "ipython",
    "version": 3
   },
   "file_extension": ".py",
   "mimetype": "text/x-python",
   "name": "python",
   "nbconvert_exporter": "python",
   "pygments_lexer": "ipython3",
   "version": "3.9.12"
  }
 },
 "nbformat": 4,
 "nbformat_minor": 5
}
